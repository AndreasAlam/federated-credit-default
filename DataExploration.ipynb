{
 "cells": [
  {
   "cell_type": "markdown",
   "metadata": {},
   "source": [
    "### Dataset Description\n",
    "Many people struggle to get loans due to insufficient or non-existent credit histories. And, unfortunately, this population is often taken advantage of by untrustworthy lenders.\n",
    "\n",
    "Home Credit Group\n",
    "\n",
    "Home Credit strives to broaden financial inclusion for the unbanked population by providing a positive and safe borrowing experience. In order to make sure this underserved population has a positive loan experience, Home Credit makes use of a variety of alternative data--including telco and transactional information--to predict their clients' repayment abilities.\n",
    "\n",
    "While Home Credit is currently using various statistical and machine learning methods to make these predictions, they're challenging Kagglers to help them unlock the full potential of their data. Doing so will ensure that clients capable of repayment are not rejected and that loans are given with a principal, maturity, and repayment calendar that will empower their clients to be successful.\n",
    "![](https://storage.googleapis.com/kaggle-media/competitions/home-credit/about-us-home-credit.jpg)"
   ]
  },
  {
   "cell_type": "markdown",
   "metadata": {},
   "source": [
    "#### Modules"
   ]
  },
  {
   "cell_type": "code",
   "execution_count": 1,
   "metadata": {},
   "outputs": [
    {
     "name": "stderr",
     "output_type": "stream",
     "text": [
      "Using TensorFlow backend.\n",
      "/home/sidroy/anaconda3/envs/pysyft/lib/python3.6/site-packages/tensorflow/python/framework/dtypes.py:526: FutureWarning: Passing (type, 1) or '1type' as a synonym of type is deprecated; in a future version of numpy, it will be understood as (type, (1,)) / '(1,)type'.\n",
      "  _np_qint8 = np.dtype([(\"qint8\", np.int8, 1)])\n",
      "/home/sidroy/anaconda3/envs/pysyft/lib/python3.6/site-packages/tensorflow/python/framework/dtypes.py:527: FutureWarning: Passing (type, 1) or '1type' as a synonym of type is deprecated; in a future version of numpy, it will be understood as (type, (1,)) / '(1,)type'.\n",
      "  _np_quint8 = np.dtype([(\"quint8\", np.uint8, 1)])\n",
      "/home/sidroy/anaconda3/envs/pysyft/lib/python3.6/site-packages/tensorflow/python/framework/dtypes.py:528: FutureWarning: Passing (type, 1) or '1type' as a synonym of type is deprecated; in a future version of numpy, it will be understood as (type, (1,)) / '(1,)type'.\n",
      "  _np_qint16 = np.dtype([(\"qint16\", np.int16, 1)])\n",
      "/home/sidroy/anaconda3/envs/pysyft/lib/python3.6/site-packages/tensorflow/python/framework/dtypes.py:529: FutureWarning: Passing (type, 1) or '1type' as a synonym of type is deprecated; in a future version of numpy, it will be understood as (type, (1,)) / '(1,)type'.\n",
      "  _np_quint16 = np.dtype([(\"quint16\", np.uint16, 1)])\n",
      "/home/sidroy/anaconda3/envs/pysyft/lib/python3.6/site-packages/tensorflow/python/framework/dtypes.py:530: FutureWarning: Passing (type, 1) or '1type' as a synonym of type is deprecated; in a future version of numpy, it will be understood as (type, (1,)) / '(1,)type'.\n",
      "  _np_qint32 = np.dtype([(\"qint32\", np.int32, 1)])\n",
      "/home/sidroy/anaconda3/envs/pysyft/lib/python3.6/site-packages/tensorflow/python/framework/dtypes.py:535: FutureWarning: Passing (type, 1) or '1type' as a synonym of type is deprecated; in a future version of numpy, it will be understood as (type, (1,)) / '(1,)type'.\n",
      "  np_resource = np.dtype([(\"resource\", np.ubyte, 1)])\n"
     ]
    }
   ],
   "source": [
    "import pandas as pd\n",
    "import os\n",
    "import matplotlib.pyplot as plt\n",
    "import numpy as np\n",
    "from sklearn.model_selection import train_test_split\n",
    "from sklearn.model_selection import StratifiedShuffleSplit\n",
    "from sklearn.preprocessing import LabelEncoder\n",
    "from fancyimpute import MICE\n",
    "from sklearn.preprocessing import StandardScaler\n",
    "from imblearn.under_sampling import RandomUnderSampler\n",
    "from imblearn.over_sampling import RandomOverSampler\n",
    "\n",
    "#from impyute.imputation.cs import mic"
   ]
  },
  {
   "cell_type": "code",
   "execution_count": 2,
   "metadata": {},
   "outputs": [],
   "source": [
    "\"\"\"\n",
    "Config Dict\n",
    "\"\"\"\n",
    "\n",
    "from collections import defaultdict\n",
    "\n",
    "CONFIG = defaultdict()\n",
    "\n",
    "CONFIG['DATASET_PATH'] = './data/'\n",
    "CONFIG['TEST_SIZE'] = 0.2\n",
    "CONFIG['RANDOM_STATE'] = 25\n",
    "CONFIG['STRAT_TYPE'] = 'TARGET'"
   ]
  },
  {
   "cell_type": "markdown",
   "metadata": {},
   "source": [
    "### Load Dataset"
   ]
  },
  {
   "cell_type": "code",
   "execution_count": null,
   "metadata": {},
   "outputs": [],
   "source": [
    "def load_credit_application_data(config=CONFIG):\n",
    "    dataset_path = CONFIG['DATASET_PATH']\n",
    "    csv_path = os.path.join(dataset_path, \"application_train.csv\")\n",
    "    return pd.read_csv(csv_path)"
   ]
  },
  {
   "cell_type": "code",
   "execution_count": null,
   "metadata": {},
   "outputs": [],
   "source": [
    "credit = load_credit_application_data()\n",
    "credit.head()"
   ]
  },
  {
   "cell_type": "code",
   "execution_count": null,
   "metadata": {},
   "outputs": [],
   "source": [
    "credit.info()"
   ]
  },
  {
   "cell_type": "code",
   "execution_count": null,
   "metadata": {},
   "outputs": [],
   "source": [
    "# looking for number/type of values for text data\n",
    "print(credit['NAME_CONTRACT_TYPE'].value_counts())"
   ]
  },
  {
   "cell_type": "code",
   "execution_count": null,
   "metadata": {},
   "outputs": [],
   "source": [
    "# Looking at at the description of the data\n",
    "credit.describe()"
   ]
  },
  {
   "cell_type": "code",
   "execution_count": null,
   "metadata": {},
   "outputs": [],
   "source": [
    "%matplotlib inline\n",
    "credit.hist(bins=50, figsize=(50,35))\n",
    "plt.show()"
   ]
  },
  {
   "cell_type": "markdown",
   "metadata": {},
   "source": [
    "There are various types of data:\n",
    "  1. Object (categorical data)\n",
    "  2. int64\n",
    "  3. float64\n",
    "  \n",
    "The categorical data needs to be taken care of\n",
    "\n",
    "    NAME_CONTRACT_TYPE = cash loans/ revolving loans\n",
    "    CODE_GENDER = M/F\n",
    "    FLAG_OWN_CAR = Y/N\n",
    "    FLAG_OWN_REALTY = Y/N\n",
    "    NAME_TYPE_SUITE = unaccompanied/family/Spouse, partner/children/other\n",
    "    NAME_INCOME_TYPE = Working/Commercial associate/Pensioner/State servant\n",
    "    NAME_EDUCATION_TYPE = Secondary / secondary special/Secondary / secondary special/Higher education/Incomplete higher/Lower secondary\n",
    "    NAME_FAMILY_STATUS = Married/Single / not married/Civil marriage/Separated\n",
    "    NAME_HOUSING_TYPE = House / apartment/With parents/Municipal apartment/Rented apartment\n",
    "    OCCUPATION_TYPE = [null]/Laborers/Sales staff/Core staff/Other\n",
    "    WEEKDAY_APPR_PROCESS_START = M/T/W...\n",
    "    ORGANIZATION_TYPE = Business Entity Type 3/XNA/Self-employed/Other\n",
    "    FONDKAPREMONT_MODE = [null]/reg oper account/reg oper spec account/not specified\n",
    "    HOUSETYPE_MODE = [null]/block of flats/specific housing/specific housing/terraced house\n",
    "    WALLSMATERIAL_MODE = [null]/Panel/Stone, brick/Block\n",
    "    EMERGENCYSTATE_MODE = Boolean\n",
    "    \n",
    "Before the dataset imputation can be done the categorical data needs to be taken care of\n",
    "  "
   ]
  },
  {
   "cell_type": "code",
   "execution_count": null,
   "metadata": {},
   "outputs": [],
   "source": [
    "credit.dtypes"
   ]
  },
  {
   "cell_type": "code",
   "execution_count": null,
   "metadata": {},
   "outputs": [],
   "source": [
    "column_titles = list(credit)\n",
    "print(\"Total Columns/features = {}\".format(len(column_titles)))\n",
    "categorical_cols = []\n",
    "for dtype,col in zip(credit.dtypes,column_titles):\n",
    "    if dtype == object:\n",
    "        print(col)\n",
    "        credit[col] = credit[col].astype(str)\n",
    "        categorical_cols.append(col)"
   ]
  },
  {
   "cell_type": "code",
   "execution_count": null,
   "metadata": {},
   "outputs": [],
   "source": [
    "le = LabelEncoder()\n",
    "credit[categorical_cols] = credit[categorical_cols].apply(lambda col: le.fit_transform(col.astype(str)))\n",
    "credit[categorical_cols].head(10)"
   ]
  },
  {
   "cell_type": "markdown",
   "metadata": {},
   "source": [
    "# Dataset Imputation\n",
    "  There are a large number of missing values in the dataset. The missing values correspond to both categorical and continuous data. Therefore to make sure that there is little bias introduced through the imputation process by making sure that the imputed data reflects the underlying distribution the __Multiple Imputation by Chained Equation__ method is used."
   ]
  },
  {
   "cell_type": "code",
   "execution_count": null,
   "metadata": {},
   "outputs": [],
   "source": [
    "column_titles = list(credit)\n",
    "mice = MICE(n_imputations=90)\n",
    "mice_results = mice.complete(np.array(credit))\n",
    "credit_imputed = pd.DataFrame(mice_results, columns=column_titles)\n",
    "credit_imputed.to_csv (r'./data/imputed_dataframe.csv', index = False, header=True)\n",
    "credit_imputed.head()"
   ]
  },
  {
   "cell_type": "code",
   "execution_count": null,
   "metadata": {},
   "outputs": [],
   "source": [
    "credit_imputed.to_csv (r'./data/imputed_dataframe.csv', index = False, header=True)\n",
    "credit_imputed.head()"
   ]
  },
  {
   "cell_type": "code",
   "execution_count": 3,
   "metadata": {},
   "outputs": [
    {
     "data": {
      "text/html": [
       "<div>\n",
       "<style scoped>\n",
       "    .dataframe tbody tr th:only-of-type {\n",
       "        vertical-align: middle;\n",
       "    }\n",
       "\n",
       "    .dataframe tbody tr th {\n",
       "        vertical-align: top;\n",
       "    }\n",
       "\n",
       "    .dataframe thead th {\n",
       "        text-align: right;\n",
       "    }\n",
       "</style>\n",
       "<table border=\"1\" class=\"dataframe\">\n",
       "  <thead>\n",
       "    <tr style=\"text-align: right;\">\n",
       "      <th></th>\n",
       "      <th>SK_ID_CURR</th>\n",
       "      <th>TARGET</th>\n",
       "      <th>NAME_CONTRACT_TYPE</th>\n",
       "      <th>CODE_GENDER</th>\n",
       "      <th>FLAG_OWN_CAR</th>\n",
       "      <th>FLAG_OWN_REALTY</th>\n",
       "      <th>CNT_CHILDREN</th>\n",
       "      <th>AMT_INCOME_TOTAL</th>\n",
       "      <th>AMT_CREDIT</th>\n",
       "      <th>AMT_ANNUITY</th>\n",
       "      <th>...</th>\n",
       "      <th>FLAG_DOCUMENT_18</th>\n",
       "      <th>FLAG_DOCUMENT_19</th>\n",
       "      <th>FLAG_DOCUMENT_20</th>\n",
       "      <th>FLAG_DOCUMENT_21</th>\n",
       "      <th>AMT_REQ_CREDIT_BUREAU_HOUR</th>\n",
       "      <th>AMT_REQ_CREDIT_BUREAU_DAY</th>\n",
       "      <th>AMT_REQ_CREDIT_BUREAU_WEEK</th>\n",
       "      <th>AMT_REQ_CREDIT_BUREAU_MON</th>\n",
       "      <th>AMT_REQ_CREDIT_BUREAU_QRT</th>\n",
       "      <th>AMT_REQ_CREDIT_BUREAU_YEAR</th>\n",
       "    </tr>\n",
       "  </thead>\n",
       "  <tbody>\n",
       "    <tr>\n",
       "      <th>0</th>\n",
       "      <td>100002.0</td>\n",
       "      <td>1.0</td>\n",
       "      <td>0.0</td>\n",
       "      <td>1.0</td>\n",
       "      <td>0.0</td>\n",
       "      <td>1.0</td>\n",
       "      <td>0.0</td>\n",
       "      <td>202500.0</td>\n",
       "      <td>406597.5</td>\n",
       "      <td>24700.5</td>\n",
       "      <td>...</td>\n",
       "      <td>0.0</td>\n",
       "      <td>0.0</td>\n",
       "      <td>0.0</td>\n",
       "      <td>0.0</td>\n",
       "      <td>0.000000</td>\n",
       "      <td>0.000000</td>\n",
       "      <td>0.000000</td>\n",
       "      <td>0.000000</td>\n",
       "      <td>0.00000</td>\n",
       "      <td>1.000000</td>\n",
       "    </tr>\n",
       "    <tr>\n",
       "      <th>1</th>\n",
       "      <td>100003.0</td>\n",
       "      <td>0.0</td>\n",
       "      <td>0.0</td>\n",
       "      <td>0.0</td>\n",
       "      <td>0.0</td>\n",
       "      <td>0.0</td>\n",
       "      <td>0.0</td>\n",
       "      <td>270000.0</td>\n",
       "      <td>1293502.5</td>\n",
       "      <td>35698.5</td>\n",
       "      <td>...</td>\n",
       "      <td>0.0</td>\n",
       "      <td>0.0</td>\n",
       "      <td>0.0</td>\n",
       "      <td>0.0</td>\n",
       "      <td>0.000000</td>\n",
       "      <td>0.000000</td>\n",
       "      <td>0.000000</td>\n",
       "      <td>0.000000</td>\n",
       "      <td>0.00000</td>\n",
       "      <td>0.000000</td>\n",
       "    </tr>\n",
       "    <tr>\n",
       "      <th>2</th>\n",
       "      <td>100004.0</td>\n",
       "      <td>0.0</td>\n",
       "      <td>1.0</td>\n",
       "      <td>1.0</td>\n",
       "      <td>1.0</td>\n",
       "      <td>1.0</td>\n",
       "      <td>0.0</td>\n",
       "      <td>67500.0</td>\n",
       "      <td>135000.0</td>\n",
       "      <td>6750.0</td>\n",
       "      <td>...</td>\n",
       "      <td>0.0</td>\n",
       "      <td>0.0</td>\n",
       "      <td>0.0</td>\n",
       "      <td>0.0</td>\n",
       "      <td>0.000000</td>\n",
       "      <td>0.000000</td>\n",
       "      <td>0.000000</td>\n",
       "      <td>0.000000</td>\n",
       "      <td>0.00000</td>\n",
       "      <td>0.000000</td>\n",
       "    </tr>\n",
       "    <tr>\n",
       "      <th>3</th>\n",
       "      <td>100006.0</td>\n",
       "      <td>0.0</td>\n",
       "      <td>0.0</td>\n",
       "      <td>0.0</td>\n",
       "      <td>0.0</td>\n",
       "      <td>1.0</td>\n",
       "      <td>0.0</td>\n",
       "      <td>135000.0</td>\n",
       "      <td>312682.5</td>\n",
       "      <td>29686.5</td>\n",
       "      <td>...</td>\n",
       "      <td>0.0</td>\n",
       "      <td>0.0</td>\n",
       "      <td>0.0</td>\n",
       "      <td>0.0</td>\n",
       "      <td>0.022047</td>\n",
       "      <td>0.085119</td>\n",
       "      <td>0.045951</td>\n",
       "      <td>-0.070741</td>\n",
       "      <td>0.27537</td>\n",
       "      <td>1.789262</td>\n",
       "    </tr>\n",
       "    <tr>\n",
       "      <th>4</th>\n",
       "      <td>100007.0</td>\n",
       "      <td>0.0</td>\n",
       "      <td>0.0</td>\n",
       "      <td>1.0</td>\n",
       "      <td>0.0</td>\n",
       "      <td>1.0</td>\n",
       "      <td>0.0</td>\n",
       "      <td>121500.0</td>\n",
       "      <td>513000.0</td>\n",
       "      <td>21865.5</td>\n",
       "      <td>...</td>\n",
       "      <td>0.0</td>\n",
       "      <td>0.0</td>\n",
       "      <td>0.0</td>\n",
       "      <td>0.0</td>\n",
       "      <td>0.000000</td>\n",
       "      <td>0.000000</td>\n",
       "      <td>0.000000</td>\n",
       "      <td>0.000000</td>\n",
       "      <td>0.00000</td>\n",
       "      <td>0.000000</td>\n",
       "    </tr>\n",
       "  </tbody>\n",
       "</table>\n",
       "<p>5 rows × 122 columns</p>\n",
       "</div>"
      ],
      "text/plain": [
       "   SK_ID_CURR  TARGET  NAME_CONTRACT_TYPE  CODE_GENDER  FLAG_OWN_CAR  \\\n",
       "0    100002.0     1.0                 0.0          1.0           0.0   \n",
       "1    100003.0     0.0                 0.0          0.0           0.0   \n",
       "2    100004.0     0.0                 1.0          1.0           1.0   \n",
       "3    100006.0     0.0                 0.0          0.0           0.0   \n",
       "4    100007.0     0.0                 0.0          1.0           0.0   \n",
       "\n",
       "   FLAG_OWN_REALTY  CNT_CHILDREN  AMT_INCOME_TOTAL  AMT_CREDIT  AMT_ANNUITY  \\\n",
       "0              1.0           0.0          202500.0    406597.5      24700.5   \n",
       "1              0.0           0.0          270000.0   1293502.5      35698.5   \n",
       "2              1.0           0.0           67500.0    135000.0       6750.0   \n",
       "3              1.0           0.0          135000.0    312682.5      29686.5   \n",
       "4              1.0           0.0          121500.0    513000.0      21865.5   \n",
       "\n",
       "   ...  FLAG_DOCUMENT_18  FLAG_DOCUMENT_19  FLAG_DOCUMENT_20  \\\n",
       "0  ...               0.0               0.0               0.0   \n",
       "1  ...               0.0               0.0               0.0   \n",
       "2  ...               0.0               0.0               0.0   \n",
       "3  ...               0.0               0.0               0.0   \n",
       "4  ...               0.0               0.0               0.0   \n",
       "\n",
       "   FLAG_DOCUMENT_21  AMT_REQ_CREDIT_BUREAU_HOUR  AMT_REQ_CREDIT_BUREAU_DAY  \\\n",
       "0               0.0                    0.000000                   0.000000   \n",
       "1               0.0                    0.000000                   0.000000   \n",
       "2               0.0                    0.000000                   0.000000   \n",
       "3               0.0                    0.022047                   0.085119   \n",
       "4               0.0                    0.000000                   0.000000   \n",
       "\n",
       "   AMT_REQ_CREDIT_BUREAU_WEEK  AMT_REQ_CREDIT_BUREAU_MON  \\\n",
       "0                    0.000000                   0.000000   \n",
       "1                    0.000000                   0.000000   \n",
       "2                    0.000000                   0.000000   \n",
       "3                    0.045951                  -0.070741   \n",
       "4                    0.000000                   0.000000   \n",
       "\n",
       "   AMT_REQ_CREDIT_BUREAU_QRT  AMT_REQ_CREDIT_BUREAU_YEAR  \n",
       "0                    0.00000                    1.000000  \n",
       "1                    0.00000                    0.000000  \n",
       "2                    0.00000                    0.000000  \n",
       "3                    0.27537                    1.789262  \n",
       "4                    0.00000                    0.000000  \n",
       "\n",
       "[5 rows x 122 columns]"
      ]
     },
     "execution_count": 3,
     "metadata": {},
     "output_type": "execute_result"
    }
   ],
   "source": [
    "def load_imputed_data(config=CONFIG):\n",
    "    dataset_path = CONFIG['DATASET_PATH']\n",
    "    csv_path = os.path.join(dataset_path, \"imputed_dataframe.csv\")\n",
    "    return pd.read_csv(csv_path)\n",
    "credit_imputed = load_imputed_data()\n",
    "credit_imputed.head()"
   ]
  },
  {
   "cell_type": "markdown",
   "metadata": {},
   "source": [
    "### Test/Train split"
   ]
  },
  {
   "cell_type": "code",
   "execution_count": null,
   "metadata": {},
   "outputs": [],
   "source": [
    "test_size = CONFIG['TEST_SIZE']\n",
    "random_state = CONFIG['RANDOM_STATE']\n",
    "train_set, test_set = train_test_split(credit, test_size=test_size, random_state=random_state)"
   ]
  },
  {
   "cell_type": "markdown",
   "metadata": {},
   "source": [
    "##### The usual test train split may not work in this case since we need the proportion of credit default same both in the testing and the training dataset. Else we might accidently end up with all the defaults in the testing dataset which might be an issue."
   ]
  },
  {
   "cell_type": "code",
   "execution_count": 226,
   "metadata": {},
   "outputs": [
    {
     "data": {
      "text/plain": [
       "(246008, 1)"
      ]
     },
     "execution_count": 226,
     "metadata": {},
     "output_type": "execute_result"
    }
   ],
   "source": [
    "credit_X = credit_imputed.drop(columns=['TARGET'])\n",
    "credit_X.head()\n",
    "credit_Y = credit_imputed[['TARGET']]\n",
    "credit_Y.head()\n",
    "stratification_type = CONFIG['STRAT_TYPE']\n",
    "test_size = CONFIG['TEST_SIZE']\n",
    "random_state = CONFIG['RANDOM_STATE']\n",
    "\n",
    "split = StratifiedShuffleSplit(n_splits=1, test_size=test_size, random_state=random_state)\n",
    "for train_index, test_index in split.split(credit_imputed, credit_imputed[stratification_type]):\n",
    "    strat_train_set = credit_imputed.loc[train_index]\n",
    "    strat_test_set = credit_imputed.loc[test_index]\n",
    "    credit_X_train = credit_X.loc[train_index]\n",
    "    credit_Y_train = credit_Y.loc[train_index]\n",
    "    credit_X_test = credit_X.loc[test_index]\n",
    "    credit_Y_test = credit_Y.loc[test_index]\n",
    "credit_Y_train.shape"
   ]
  },
  {
   "cell_type": "code",
   "execution_count": 5,
   "metadata": {},
   "outputs": [
    {
     "data": {
      "text/plain": [
       "(452296, 1)"
      ]
     },
     "execution_count": 5,
     "metadata": {},
     "output_type": "execute_result"
    }
   ],
   "source": [
    "ros = RandomOverSampler()\n",
    "credit_X_train, credit_Y_train = ros.fit_sample(credit_X_train, credit_Y_train)\n",
    "credit_Y_train.shape"
   ]
  },
  {
   "cell_type": "markdown",
   "metadata": {},
   "source": [
    "We need to scale the data"
   ]
  },
  {
   "cell_type": "code",
   "execution_count": 227,
   "metadata": {},
   "outputs": [],
   "source": [
    "std_scaler = StandardScaler()\n",
    "x_col_titles = list(credit_X_train)\n",
    "credit_X_train = pd.DataFrame(std_scaler.fit_transform(credit_X_train) , columns=x_col_titles)\n",
    "credit_X_test = pd.DataFrame(std_scaler.fit_transform(credit_X_test) , columns=x_col_titles)"
   ]
  },
  {
   "cell_type": "code",
   "execution_count": 7,
   "metadata": {},
   "outputs": [
    {
     "data": {
      "text/plain": [
       "0.0    0.919271\n",
       "1.0    0.080729\n",
       "Name: TARGET, dtype: float64"
      ]
     },
     "execution_count": 7,
     "metadata": {},
     "output_type": "execute_result"
    }
   ],
   "source": [
    "# proportion of credit defalut in the test/train split\n",
    "credit_Y['TARGET'].value_counts()/len(credit_Y)"
   ]
  },
  {
   "cell_type": "code",
   "execution_count": 8,
   "metadata": {},
   "outputs": [
    {
     "data": {
      "text/plain": [
       "1.0    0.5\n",
       "0.0    0.5\n",
       "Name: TARGET, dtype: float64"
      ]
     },
     "execution_count": 8,
     "metadata": {},
     "output_type": "execute_result"
    }
   ],
   "source": [
    "credit_Y_train['TARGET'].value_counts()/len(credit_Y_train)"
   ]
  },
  {
   "cell_type": "code",
   "execution_count": 9,
   "metadata": {},
   "outputs": [
    {
     "data": {
      "text/plain": [
       "0.0    0.919272\n",
       "1.0    0.080728\n",
       "Name: TARGET, dtype: float64"
      ]
     },
     "execution_count": 9,
     "metadata": {},
     "output_type": "execute_result"
    }
   ],
   "source": [
    "credit_Y_test['TARGET'].value_counts()/len(credit_Y_test)"
   ]
  },
  {
   "cell_type": "markdown",
   "metadata": {},
   "source": [
    "### Looking for inherent correlations in the Dataset\n",
    "  Finding the correlations for this dataset is important since we can figure out which are the most important features affecting the default"
   ]
  },
  {
   "cell_type": "code",
   "execution_count": null,
   "metadata": {},
   "outputs": [],
   "source": [
    "corr_matrix = credit_imputed.corr()\n",
    "# there is no one or two features that are extremely correlated to the output"
   ]
  },
  {
   "cell_type": "code",
   "execution_count": null,
   "metadata": {},
   "outputs": [],
   "source": [
    "print(corr_matrix[\"TARGET\"].sort_values(ascending=False))"
   ]
  },
  {
   "cell_type": "markdown",
   "metadata": {},
   "source": [
    "#### modules for pytorch"
   ]
  },
  {
   "cell_type": "code",
   "execution_count": 184,
   "metadata": {},
   "outputs": [],
   "source": [
    "import torch\n",
    "import torch.nn as nn\n",
    "import torch.nn.functional as F\n",
    "import torch.optim as optim\n",
    "from torch.utils.data import TensorDataset, DataLoader\n",
    "import time\n",
    "import copy\n",
    "import syft as sy\n",
    "from syft.frameworks.torch.fl import utils\n",
    "from syft.workers.websocket_client import WebsocketClientWorker\n",
    "from sklearn.metrics import precision_score, recall_score, accuracy_score"
   ]
  },
  {
   "cell_type": "code",
   "execution_count": 242,
   "metadata": {},
   "outputs": [],
   "source": [
    "class Arguments:\n",
    "    def __init__(self):\n",
    "        self.epochs = 20\n",
    "        self.lr = 0.005\n",
    "        self.test_batch_size = 10\n",
    "        self.batch_size = 10\n",
    "        self.log_interval = 1000\n",
    "        self.seed = 1"
   ]
  },
  {
   "cell_type": "code",
   "execution_count": 243,
   "metadata": {},
   "outputs": [
    {
     "data": {
      "text/plain": [
       "<torch._C.Generator at 0x7fd8853b3b50>"
      ]
     },
     "execution_count": 243,
     "metadata": {},
     "output_type": "execute_result"
    }
   ],
   "source": [
    "args = Arguments()\n",
    "torch.manual_seed(args.seed)"
   ]
  },
  {
   "cell_type": "markdown",
   "metadata": {},
   "source": [
    "Convert to pytorch tensors"
   ]
  },
  {
   "cell_type": "code",
   "execution_count": 244,
   "metadata": {},
   "outputs": [],
   "source": [
    "X_train = torch.from_numpy( credit_X_train.to_numpy() ).float()\n",
    "Y_train = torch.from_numpy( credit_Y_train.to_numpy().flatten() ).float()\n",
    "X_test = torch.from_numpy( credit_X_test.to_numpy() ).float()\n",
    "Y_test = torch.from_numpy( credit_Y_test.to_numpy().flatten() ).float()"
   ]
  },
  {
   "cell_type": "code",
   "execution_count": 245,
   "metadata": {},
   "outputs": [],
   "source": [
    "train = TensorDataset(X_train, Y_train)\n",
    "test = TensorDataset(X_test, Y_test)\n",
    "\n",
    "weights = torch.Tensor([9, 1])\n",
    "weighted_sampler = torch.utils.data.sampler.WeightedRandomSampler(weights, 2)\n",
    "\n",
    "train_loader = DataLoader(train, batch_size=args.batch_size, shuffle=True)\n",
    "test_loader = DataLoader(test, batch_size=args.batch_size, shuffle=True)"
   ]
  },
  {
   "cell_type": "markdown",
   "metadata": {},
   "source": [
    "### Building the neural network model"
   ]
  },
  {
   "cell_type": "code",
   "execution_count": 246,
   "metadata": {},
   "outputs": [],
   "source": [
    "class Net(nn.Module):\n",
    "    def __init__(self):\n",
    "        super(Net, self).__init__()\n",
    "        self.fc1 = nn.Linear(121, 240)\n",
    "        self.fc2 = nn.Linear(240, 160)\n",
    "        self.fc3 = nn.Linear(160, 80)\n",
    "        self.fc4 = nn.Linear(80, 20)\n",
    "        self.fc5 = nn.Linear(20, 2)\n",
    "        \n",
    "    def forward(self, x):\n",
    "        x = x.view(-1, 121)\n",
    "        x = F.relu(self.fc1(x))\n",
    "        x = F.relu(self.fc2(x))\n",
    "        x = F.relu(self.fc3(x))\n",
    "        x = F.relu(self.fc4(x))\n",
    "        x = F.log_softmax(self.fc5(x), dim=1)\n",
    "        return x\n",
    "        "
   ]
  },
  {
   "cell_type": "markdown",
   "metadata": {},
   "source": [
    "### Connect to the devices/local zone for training"
   ]
  },
  {
   "cell_type": "code",
   "execution_count": 247,
   "metadata": {},
   "outputs": [
    {
     "name": "stderr",
     "output_type": "stream",
     "text": [
      "WARNING:root:Torch was already hooked... skipping hooking process\n"
     ]
    }
   ],
   "source": [
    "hook = sy.TorchHook(torch)\n",
    "bob_device = sy.VirtualWorker(hook, id='bob')\n",
    "alice_device = sy.VirtualWorker(hook, id='alice')\n",
    "devices = [bob_device, alice_device]"
   ]
  },
  {
   "cell_type": "markdown",
   "metadata": {},
   "source": [
    "### Sending data over to the devices for training with on device capability"
   ]
  },
  {
   "cell_type": "code",
   "execution_count": 248,
   "metadata": {},
   "outputs": [],
   "source": [
    "# organize pointers into a list\n",
    "remote_dataset = (list(), list())\n",
    "train_distributed_dataset = []\n",
    "\n",
    "for batch_idx, (data, target) in enumerate(train_loader):\n",
    "    device_id = batch_idx % len(devices)\n",
    "    data = data.send(devices[device_id])\n",
    "    target = target.send(devices[device_id])\n",
    "    remote_dataset[device_id].append((data, target))"
   ]
  },
  {
   "cell_type": "code",
   "execution_count": 249,
   "metadata": {},
   "outputs": [],
   "source": [
    "model_bob_device = Net()\n",
    "model_alice_device = Net()\n",
    "optimizer_bob = optim.SGD(model_bob_device.parameters(), lr=args.lr)\n",
    "optimizer_alice = optim.SGD(model_alice_device.parameters(), lr=args.lr)"
   ]
  },
  {
   "cell_type": "code",
   "execution_count": 250,
   "metadata": {},
   "outputs": [],
   "source": [
    "models = [model_bob_device, model_alice_device]\n",
    "optimizers = [optimizer_bob, optimizer_alice]"
   ]
  },
  {
   "cell_type": "code",
   "execution_count": 251,
   "metadata": {},
   "outputs": [
    {
     "data": {
      "text/plain": [
       "Net(\n",
       "  (fc1): Linear(in_features=121, out_features=240, bias=True)\n",
       "  (fc2): Linear(in_features=240, out_features=160, bias=True)\n",
       "  (fc3): Linear(in_features=160, out_features=80, bias=True)\n",
       "  (fc4): Linear(in_features=80, out_features=20, bias=True)\n",
       "  (fc5): Linear(in_features=20, out_features=2, bias=True)\n",
       ")"
      ]
     },
     "execution_count": 251,
     "metadata": {},
     "output_type": "execute_result"
    }
   ],
   "source": [
    "model = Net()\n",
    "model"
   ]
  },
  {
   "cell_type": "code",
   "execution_count": 252,
   "metadata": {},
   "outputs": [],
   "source": [
    "def update_model(data, target, model, optimizer):\n",
    "    target = target.long().view(-1)\n",
    "    model.send(data.location)\n",
    "    optimizer.zero_grad()\n",
    "    prediction = model(data)\n",
    "    #print(\"prediction = {}\".format(prediction.view(-1)))\n",
    "    #print(\"target = {}\".format(target))\n",
    "    criterion = nn.CrossEntropyLoss()\n",
    "    loss = criterion(prediction, target)\n",
    "    loss.backward()\n",
    "    optimizer.step()\n",
    "    return model\n",
    "\n",
    "def train_on_devices():\n",
    "    \n",
    "    # iterate through each worker's dataset seperately\n",
    "    for data_index in range(len(remote_dataset[0])-1):\n",
    "        for device_index in range(len(devices)):\n",
    "            data, target = remote_dataset[device_index][data_index]\n",
    "            models[device_index] = update_model(data, target, models[device_index], optimizers[device_index])\n",
    "            \n",
    "        for model in models:\n",
    "            model.get()\n",
    "            \n",
    "        return utils.federated_avg({\n",
    "            'bob': models[0],\n",
    "            'alice': models[1]\n",
    "        })"
   ]
  },
  {
   "cell_type": "code",
   "execution_count": 253,
   "metadata": {},
   "outputs": [],
   "source": [
    "def test_model(federated_model):\n",
    "    federated_model.eval()\n",
    "    test_loss = 0\n",
    "    avg_precision = 0\n",
    "    avg_accuracy = 0\n",
    "    avg_recall = 0\n",
    "    num_iter = 0\n",
    "    for data, target in test_loader:\n",
    "        target = target.long().view(-1)\n",
    "        output = federated_model.forward(data)\n",
    "        criterion = nn.CrossEntropyLoss()\n",
    "        test_loss += criterion(output, target).item()\n",
    "        prediction = output.data.max(1, keepdim=True)[1]\n",
    "        target_array = target.numpy().flatten()\n",
    "        prediction_array = prediction.numpy().flatten()\n",
    "        avg_precision += precision_score(target_array, prediction_array)\n",
    "        avg_accuracy += accuracy_score(target_array, prediction_array)\n",
    "        avg_recall += recall_score(target_array, prediction_array)\n",
    "        num_iter += 1\n",
    "        \n",
    "    test_loss /= num_iter #len(test_loader.dataset)\n",
    "    avg_precision /= num_iter\n",
    "    avg_accuracy /= num_iter\n",
    "    avg_recall /= num_iter\n",
    "    print('Test set: Average loss: {:.4f}'.format(test_loss))\n",
    "    print('Avg Accuarcy: {:.4f}'.format(avg_accuracy))\n",
    "    print('Avg Precision: {:.4f}'.format(avg_precision))\n",
    "    print('Avg Recall: {:.4f}'.format(avg_recall))\n",
    "    return test_loss, avg_precision, avg_accuracy, avg_recall"
   ]
  },
  {
   "cell_type": "code",
   "execution_count": 254,
   "metadata": {},
   "outputs": [
    {
     "name": "stdout",
     "output_type": "stream",
     "text": [
      "Epoch Number = 1\n"
     ]
    },
    {
     "name": "stderr",
     "output_type": "stream",
     "text": [
      "/home/sidroy/anaconda3/envs/pysyft/lib/python3.6/site-packages/sklearn/metrics/_classification.py:1272: UndefinedMetricWarning: Recall is ill-defined and being set to 0.0 due to no true samples. Use `zero_division` parameter to control this behavior.\n",
      "  _warn_prf(average, modifier, msg_start, len(result))\n"
     ]
    },
    {
     "name": "stdout",
     "output_type": "stream",
     "text": [
      "Test set: Average loss: 0.6941\n",
      "Avg Accuarcy: 0.1370\n",
      "Avg Precision: 0.0825\n",
      "Avg Recall: 0.5411\n",
      "Communication time over the network 11.85 s\n",
      "\n",
      "Epoch Number = 2\n",
      "Test set: Average loss: 0.7131\n",
      "Avg Accuarcy: 0.0809\n",
      "Avg Precision: 0.0807\n",
      "Avg Recall: 0.5680\n",
      "Communication time over the network 12.08 s\n",
      "\n",
      "Epoch Number = 3\n",
      "Test set: Average loss: 0.7247\n",
      "Avg Accuarcy: 0.0808\n",
      "Avg Precision: 0.0807\n",
      "Avg Recall: 0.5700\n",
      "Communication time over the network 12.5 s\n",
      "\n",
      "Epoch Number = 4\n",
      "Test set: Average loss: 0.7302\n",
      "Avg Accuarcy: 0.0808\n",
      "Avg Precision: 0.0807\n",
      "Avg Recall: 0.5633\n",
      "Communication time over the network 12.26 s\n",
      "\n",
      "Epoch Number = 5\n",
      "Test set: Average loss: 0.7322\n",
      "Avg Accuarcy: 0.0809\n",
      "Avg Precision: 0.0807\n",
      "Avg Recall: 0.5729\n",
      "Communication time over the network 13.97 s\n",
      "\n",
      "Epoch Number = 6\n",
      "Test set: Average loss: 0.7323\n",
      "Avg Accuarcy: 0.0809\n",
      "Avg Precision: 0.0807\n",
      "Avg Recall: 0.5699\n",
      "Communication time over the network 12.17 s\n",
      "\n",
      "Epoch Number = 7\n",
      "Test set: Average loss: 0.7315\n",
      "Avg Accuarcy: 0.0810\n",
      "Avg Precision: 0.0807\n",
      "Avg Recall: 0.5704\n",
      "Communication time over the network 12.12 s\n",
      "\n",
      "Epoch Number = 8\n",
      "Test set: Average loss: 0.7303\n",
      "Avg Accuarcy: 0.0811\n",
      "Avg Precision: 0.0807\n",
      "Avg Recall: 0.5703\n",
      "Communication time over the network 12.58 s\n",
      "\n",
      "Epoch Number = 9\n",
      "Test set: Average loss: 0.7288\n",
      "Avg Accuarcy: 0.0812\n",
      "Avg Precision: 0.0807\n",
      "Avg Recall: 0.5710\n",
      "Communication time over the network 12.38 s\n",
      "\n",
      "Epoch Number = 10\n",
      "Test set: Average loss: 0.7272\n",
      "Avg Accuarcy: 0.0813\n",
      "Avg Precision: 0.0807\n",
      "Avg Recall: 0.5748\n",
      "Communication time over the network 12.45 s\n",
      "\n",
      "Epoch Number = 11\n",
      "Test set: Average loss: 0.7256\n",
      "Avg Accuarcy: 0.0814\n",
      "Avg Precision: 0.0807\n",
      "Avg Recall: 0.5706\n",
      "Communication time over the network 12.86 s\n",
      "\n",
      "Epoch Number = 12\n",
      "Test set: Average loss: 0.7239\n",
      "Avg Accuarcy: 0.0817\n",
      "Avg Precision: 0.0808\n",
      "Avg Recall: 0.5706\n",
      "Communication time over the network 12.45 s\n",
      "\n",
      "Epoch Number = 13\n",
      "Test set: Average loss: 0.7223\n",
      "Avg Accuarcy: 0.0820\n",
      "Avg Precision: 0.0808\n",
      "Avg Recall: 0.5733\n",
      "Communication time over the network 12.77 s\n",
      "\n",
      "Epoch Number = 14\n",
      "Test set: Average loss: 0.7206\n",
      "Avg Accuarcy: 0.0824\n",
      "Avg Precision: 0.0808\n",
      "Avg Recall: 0.5666\n",
      "Communication time over the network 12.45 s\n",
      "\n",
      "Epoch Number = 15\n",
      "Test set: Average loss: 0.7190\n",
      "Avg Accuarcy: 0.0830\n",
      "Avg Precision: 0.0808\n",
      "Avg Recall: 0.5673\n",
      "Communication time over the network 12.37 s\n",
      "\n",
      "Epoch Number = 16\n",
      "Test set: Average loss: 0.7174\n",
      "Avg Accuarcy: 0.0836\n",
      "Avg Precision: 0.0809\n",
      "Avg Recall: 0.5714\n",
      "Communication time over the network 13.25 s\n",
      "\n",
      "Epoch Number = 17\n",
      "Test set: Average loss: 0.7157\n",
      "Avg Accuarcy: 0.0844\n",
      "Avg Precision: 0.0810\n",
      "Avg Recall: 0.5649\n",
      "Communication time over the network 12.64 s\n",
      "\n",
      "Epoch Number = 18\n",
      "Test set: Average loss: 0.7141\n",
      "Avg Accuarcy: 0.0850\n",
      "Avg Precision: 0.0808\n",
      "Avg Recall: 0.5666\n",
      "Communication time over the network 12.99 s\n",
      "\n",
      "Epoch Number = 19\n",
      "Test set: Average loss: 0.7125\n",
      "Avg Accuarcy: 0.0862\n",
      "Avg Precision: 0.0809\n",
      "Avg Recall: 0.5710\n",
      "Communication time over the network 12.52 s\n",
      "\n",
      "Epoch Number = 20\n",
      "Test set: Average loss: 0.7109\n",
      "Avg Accuarcy: 0.0872\n",
      "Avg Precision: 0.0809\n",
      "Avg Recall: 0.5644\n",
      "Communication time over the network 12.97 s\n",
      "\n"
     ]
    }
   ],
   "source": [
    "epoch_loss = []\n",
    "precision = []\n",
    "accuracy = []\n",
    "recall = []\n",
    "for epoch in range(args.epochs):\n",
    "    start_time = time.time()\n",
    "    print(\"Epoch Number = {}\".format(epoch+1))\n",
    "    federated_model = train_on_devices()\n",
    "    model = federated_model\n",
    "    test_loss, avg_precision, avg_accuracy, avg_recall = test_model(model)\n",
    "    epoch_loss.append(test_loss)\n",
    "    precision.append(avg_precision)\n",
    "    accuracy.append(avg_accuracy)\n",
    "    recall.append(avg_recall)\n",
    "    total_time = time.time() - start_time\n",
    "    print('Communication time over the network {} s\\n'.format(round(total_time, 2)))"
   ]
  },
  {
   "cell_type": "code",
   "execution_count": 255,
   "metadata": {},
   "outputs": [
    {
     "data": {
      "image/png": "[encoded data removed]",
      "text/plain": [
       "<Figure size 432x288 with 1 Axes>"
      ]
     },
     "metadata": {
      "needs_background": "light"
     },
     "output_type": "display_data"
    }
   ],
   "source": [
    "%matplotlib inline\n",
    "plt.plot(np.array(epoch_loss))\n",
    "plt.show()"
   ]
  },
  {
   "cell_type": "code",
   "execution_count": 257,
   "metadata": {},
   "outputs": [
    {
     "data": {
      "image/png": "[encoded data removed]",
      "text/plain": [
       "<Figure size 432x288 with 1 Axes>"
      ]
     },
     "metadata": {
      "needs_background": "light"
     },
     "output_type": "display_data"
    }
   ],
   "source": [
    "%matplotlib inline\n",
    "#plt.plot(np.array(precision))\n",
    "#plt.plot(np.array(accuracy))\n",
    "#plt.plot(np.array(recall))\n",
    "plt.show()"
   ]
  },
  {
   "cell_type": "markdown",
   "metadata": {},
   "source": [
    "### Global Model without defferential privacy"
   ]
  },
  {
   "cell_type": "code",
   "execution_count": 205,
   "metadata": {},
   "outputs": [],
   "source": [
    "model_G = Net()\n",
    "optimizer_G = optim.SGD(model_G.parameters(), lr=args.lr)\n",
    "criterion = nn.CrossEntropyLoss()"
   ]
  },
  {
   "cell_type": "code",
   "execution_count": 206,
   "metadata": {},
   "outputs": [
    {
     "name": "stdout",
     "output_type": "stream",
     "text": [
      "Epoch Number = 1\n",
      "Running Loss = 0.005118851016975466\n",
      "Time consumed 10.27 s\n",
      "\n",
      "Epoch Number = 2\n",
      "Running Loss = 0.005101706569466888\n",
      "Time consumed 9.3 s\n",
      "\n",
      "Epoch Number = 3\n",
      "Running Loss = 0.005096220980620455\n",
      "Time consumed 8.24 s\n",
      "\n",
      "Epoch Number = 4\n",
      "Running Loss = 0.005090286024717378\n",
      "Time consumed 8.33 s\n",
      "\n",
      "Epoch Number = 5\n",
      "Running Loss = 0.005082539836947492\n",
      "Time consumed 8.36 s\n",
      "\n",
      "Epoch Number = 6\n",
      "Running Loss = 0.005071777527001599\n",
      "Time consumed 8.28 s\n",
      "\n",
      "Epoch Number = 7\n",
      "Running Loss = 0.005056018494257952\n",
      "Time consumed 11.29 s\n",
      "\n",
      "Epoch Number = 8\n",
      "Running Loss = 0.0050318569529803365\n",
      "Time consumed 10.8 s\n",
      "\n",
      "Epoch Number = 9\n",
      "Running Loss = 0.004994023905097668\n",
      "Time consumed 11.52 s\n",
      "\n",
      "Epoch Number = 10\n",
      "Running Loss = 0.00493465538980701\n",
      "Time consumed 13.16 s\n",
      "\n",
      "Epoch Number = 11\n",
      "Running Loss = 0.004847945486543864\n",
      "Time consumed 10.38 s\n",
      "\n",
      "Epoch Number = 12\n",
      "Running Loss = 0.00474061583502747\n",
      "Time consumed 10.91 s\n",
      "\n",
      "Epoch Number = 13\n",
      "Running Loss = 0.004637138644049846\n",
      "Time consumed 11.08 s\n",
      "\n",
      "Epoch Number = 14\n",
      "Running Loss = 0.0045579867140230325\n",
      "Time consumed 11.65 s\n",
      "\n",
      "Epoch Number = 15\n"
     ]
    },
    {
     "ename": "KeyboardInterrupt",
     "evalue": "",
     "output_type": "error",
     "traceback": [
      "\u001b[0;31m---------------------------------------------------------------------------\u001b[0m",
      "\u001b[0;31mAssertionError\u001b[0m                            Traceback (most recent call last)",
      "\u001b[0;32m~/anaconda3/envs/pysyft/lib/python3.6/site-packages/syft/generic/frameworks/hook/hook_args.py\u001b[0m in \u001b[0;36munwrap_args_from_function\u001b[0;34m(attr, args, kwargs, return_args_type)\u001b[0m\n\u001b[1;32m    150\u001b[0m     \u001b[0;32mtry\u001b[0m\u001b[0;34m:\u001b[0m\u001b[0;34m\u001b[0m\u001b[0;34m\u001b[0m\u001b[0m\n\u001b[0;32m--> 151\u001b[0;31m         \u001b[0;32massert\u001b[0m \u001b[0mattr\u001b[0m \u001b[0;32mnot\u001b[0m \u001b[0;32min\u001b[0m \u001b[0mambiguous_functions\u001b[0m\u001b[0;34m\u001b[0m\u001b[0;34m\u001b[0m\u001b[0m\n\u001b[0m\u001b[1;32m    152\u001b[0m         \u001b[0;31m# Load the utility function to transform the args\u001b[0m\u001b[0;34m\u001b[0m\u001b[0;34m\u001b[0m\u001b[0;34m\u001b[0m\u001b[0m\n",
      "\u001b[0;31mAssertionError\u001b[0m: ",
      "\nDuring handling of the above exception, another exception occurred:\n",
      "\u001b[0;31mKeyboardInterrupt\u001b[0m                         Traceback (most recent call last)",
      "\u001b[0;32m<ipython-input-206-a7fa2b45b2f2>\u001b[0m in \u001b[0;36m<module>\u001b[0;34m\u001b[0m\n\u001b[1;32m      4\u001b[0m     \u001b[0mrunning_loss\u001b[0m \u001b[0;34m=\u001b[0m \u001b[0;36m0\u001b[0m\u001b[0;34m\u001b[0m\u001b[0;34m\u001b[0m\u001b[0m\n\u001b[1;32m      5\u001b[0m     \u001b[0mprint\u001b[0m\u001b[0;34m(\u001b[0m\u001b[0;34m\"Epoch Number = {}\"\u001b[0m\u001b[0;34m.\u001b[0m\u001b[0mformat\u001b[0m\u001b[0;34m(\u001b[0m\u001b[0mepoch\u001b[0m\u001b[0;34m+\u001b[0m\u001b[0;36m1\u001b[0m\u001b[0;34m)\u001b[0m\u001b[0;34m)\u001b[0m\u001b[0;34m\u001b[0m\u001b[0;34m\u001b[0m\u001b[0m\n\u001b[0;32m----> 6\u001b[0;31m     \u001b[0;32mfor\u001b[0m \u001b[0mdata\u001b[0m\u001b[0;34m,\u001b[0m \u001b[0mtarget\u001b[0m \u001b[0;32min\u001b[0m \u001b[0mtrain_loader\u001b[0m\u001b[0;34m:\u001b[0m\u001b[0;34m\u001b[0m\u001b[0;34m\u001b[0m\u001b[0m\n\u001b[0m\u001b[1;32m      7\u001b[0m         \u001b[0mtarget\u001b[0m \u001b[0;34m=\u001b[0m \u001b[0mtarget\u001b[0m\u001b[0;34m.\u001b[0m\u001b[0mlong\u001b[0m\u001b[0;34m(\u001b[0m\u001b[0;34m)\u001b[0m\u001b[0;34m.\u001b[0m\u001b[0mview\u001b[0m\u001b[0;34m(\u001b[0m\u001b[0;34m-\u001b[0m\u001b[0;36m1\u001b[0m\u001b[0;34m)\u001b[0m\u001b[0;34m\u001b[0m\u001b[0;34m\u001b[0m\u001b[0m\n\u001b[1;32m      8\u001b[0m         \u001b[0moptimizer_G\u001b[0m\u001b[0;34m.\u001b[0m\u001b[0mzero_grad\u001b[0m\u001b[0;34m(\u001b[0m\u001b[0;34m)\u001b[0m\u001b[0;34m\u001b[0m\u001b[0;34m\u001b[0m\u001b[0m\n",
      "\u001b[0;32m~/anaconda3/envs/pysyft/lib/python3.6/site-packages/torch/utils/data/dataloader.py\u001b[0m in \u001b[0;36m__next__\u001b[0;34m(self)\u001b[0m\n\u001b[1;32m    343\u001b[0m \u001b[0;34m\u001b[0m\u001b[0m\n\u001b[1;32m    344\u001b[0m     \u001b[0;32mdef\u001b[0m \u001b[0m__next__\u001b[0m\u001b[0;34m(\u001b[0m\u001b[0mself\u001b[0m\u001b[0;34m)\u001b[0m\u001b[0;34m:\u001b[0m\u001b[0;34m\u001b[0m\u001b[0;34m\u001b[0m\u001b[0m\n\u001b[0;32m--> 345\u001b[0;31m         \u001b[0mdata\u001b[0m \u001b[0;34m=\u001b[0m \u001b[0mself\u001b[0m\u001b[0;34m.\u001b[0m\u001b[0m_next_data\u001b[0m\u001b[0;34m(\u001b[0m\u001b[0;34m)\u001b[0m\u001b[0;34m\u001b[0m\u001b[0;34m\u001b[0m\u001b[0m\n\u001b[0m\u001b[1;32m    346\u001b[0m         \u001b[0mself\u001b[0m\u001b[0;34m.\u001b[0m\u001b[0m_num_yielded\u001b[0m \u001b[0;34m+=\u001b[0m \u001b[0;36m1\u001b[0m\u001b[0;34m\u001b[0m\u001b[0;34m\u001b[0m\u001b[0m\n\u001b[1;32m    347\u001b[0m         \u001b[0;32mif\u001b[0m \u001b[0mself\u001b[0m\u001b[0;34m.\u001b[0m\u001b[0m_dataset_kind\u001b[0m \u001b[0;34m==\u001b[0m \u001b[0m_DatasetKind\u001b[0m\u001b[0;34m.\u001b[0m\u001b[0mIterable\u001b[0m \u001b[0;32mand\u001b[0m\u001b[0;31m \u001b[0m\u001b[0;31m\\\u001b[0m\u001b[0;34m\u001b[0m\u001b[0;34m\u001b[0m\u001b[0m\n",
      "\u001b[0;32m~/anaconda3/envs/pysyft/lib/python3.6/site-packages/torch/utils/data/dataloader.py\u001b[0m in \u001b[0;36m_next_data\u001b[0;34m(self)\u001b[0m\n\u001b[1;32m    383\u001b[0m     \u001b[0;32mdef\u001b[0m \u001b[0m_next_data\u001b[0m\u001b[0;34m(\u001b[0m\u001b[0mself\u001b[0m\u001b[0;34m)\u001b[0m\u001b[0;34m:\u001b[0m\u001b[0;34m\u001b[0m\u001b[0;34m\u001b[0m\u001b[0m\n\u001b[1;32m    384\u001b[0m         \u001b[0mindex\u001b[0m \u001b[0;34m=\u001b[0m \u001b[0mself\u001b[0m\u001b[0;34m.\u001b[0m\u001b[0m_next_index\u001b[0m\u001b[0;34m(\u001b[0m\u001b[0;34m)\u001b[0m  \u001b[0;31m# may raise StopIteration\u001b[0m\u001b[0;34m\u001b[0m\u001b[0;34m\u001b[0m\u001b[0m\n\u001b[0;32m--> 385\u001b[0;31m         \u001b[0mdata\u001b[0m \u001b[0;34m=\u001b[0m \u001b[0mself\u001b[0m\u001b[0;34m.\u001b[0m\u001b[0m_dataset_fetcher\u001b[0m\u001b[0;34m.\u001b[0m\u001b[0mfetch\u001b[0m\u001b[0;34m(\u001b[0m\u001b[0mindex\u001b[0m\u001b[0;34m)\u001b[0m  \u001b[0;31m# may raise StopIteration\u001b[0m\u001b[0;34m\u001b[0m\u001b[0;34m\u001b[0m\u001b[0m\n\u001b[0m\u001b[1;32m    386\u001b[0m         \u001b[0;32mif\u001b[0m \u001b[0mself\u001b[0m\u001b[0;34m.\u001b[0m\u001b[0m_pin_memory\u001b[0m\u001b[0;34m:\u001b[0m\u001b[0;34m\u001b[0m\u001b[0;34m\u001b[0m\u001b[0m\n\u001b[1;32m    387\u001b[0m             \u001b[0mdata\u001b[0m \u001b[0;34m=\u001b[0m \u001b[0m_utils\u001b[0m\u001b[0;34m.\u001b[0m\u001b[0mpin_memory\u001b[0m\u001b[0;34m.\u001b[0m\u001b[0mpin_memory\u001b[0m\u001b[0;34m(\u001b[0m\u001b[0mdata\u001b[0m\u001b[0;34m)\u001b[0m\u001b[0;34m\u001b[0m\u001b[0;34m\u001b[0m\u001b[0m\n",
      "\u001b[0;32m~/anaconda3/envs/pysyft/lib/python3.6/site-packages/torch/utils/data/_utils/fetch.py\u001b[0m in \u001b[0;36mfetch\u001b[0;34m(self, possibly_batched_index)\u001b[0m\n\u001b[1;32m     45\u001b[0m         \u001b[0;32melse\u001b[0m\u001b[0;34m:\u001b[0m\u001b[0;34m\u001b[0m\u001b[0;34m\u001b[0m\u001b[0m\n\u001b[1;32m     46\u001b[0m             \u001b[0mdata\u001b[0m \u001b[0;34m=\u001b[0m \u001b[0mself\u001b[0m\u001b[0;34m.\u001b[0m\u001b[0mdataset\u001b[0m\u001b[0;34m[\u001b[0m\u001b[0mpossibly_batched_index\u001b[0m\u001b[0;34m]\u001b[0m\u001b[0;34m\u001b[0m\u001b[0;34m\u001b[0m\u001b[0m\n\u001b[0;32m---> 47\u001b[0;31m         \u001b[0;32mreturn\u001b[0m \u001b[0mself\u001b[0m\u001b[0;34m.\u001b[0m\u001b[0mcollate_fn\u001b[0m\u001b[0;34m(\u001b[0m\u001b[0mdata\u001b[0m\u001b[0;34m)\u001b[0m\u001b[0;34m\u001b[0m\u001b[0;34m\u001b[0m\u001b[0m\n\u001b[0m",
      "\u001b[0;32m~/anaconda3/envs/pysyft/lib/python3.6/site-packages/torch/utils/data/_utils/collate.py\u001b[0m in \u001b[0;36mdefault_collate\u001b[0;34m(batch)\u001b[0m\n\u001b[1;32m     77\u001b[0m     \u001b[0;32melif\u001b[0m \u001b[0misinstance\u001b[0m\u001b[0;34m(\u001b[0m\u001b[0melem\u001b[0m\u001b[0;34m,\u001b[0m \u001b[0mcontainer_abcs\u001b[0m\u001b[0;34m.\u001b[0m\u001b[0mSequence\u001b[0m\u001b[0;34m)\u001b[0m\u001b[0;34m:\u001b[0m\u001b[0;34m\u001b[0m\u001b[0;34m\u001b[0m\u001b[0m\n\u001b[1;32m     78\u001b[0m         \u001b[0mtransposed\u001b[0m \u001b[0;34m=\u001b[0m \u001b[0mzip\u001b[0m\u001b[0;34m(\u001b[0m\u001b[0;34m*\u001b[0m\u001b[0mbatch\u001b[0m\u001b[0;34m)\u001b[0m\u001b[0;34m\u001b[0m\u001b[0;34m\u001b[0m\u001b[0m\n\u001b[0;32m---> 79\u001b[0;31m         \u001b[0;32mreturn\u001b[0m \u001b[0;34m[\u001b[0m\u001b[0mdefault_collate\u001b[0m\u001b[0;34m(\u001b[0m\u001b[0msamples\u001b[0m\u001b[0;34m)\u001b[0m \u001b[0;32mfor\u001b[0m \u001b[0msamples\u001b[0m \u001b[0;32min\u001b[0m \u001b[0mtransposed\u001b[0m\u001b[0;34m]\u001b[0m\u001b[0;34m\u001b[0m\u001b[0;34m\u001b[0m\u001b[0m\n\u001b[0m\u001b[1;32m     80\u001b[0m \u001b[0;34m\u001b[0m\u001b[0m\n\u001b[1;32m     81\u001b[0m     \u001b[0;32mraise\u001b[0m \u001b[0mTypeError\u001b[0m\u001b[0;34m(\u001b[0m\u001b[0mdefault_collate_err_msg_format\u001b[0m\u001b[0;34m.\u001b[0m\u001b[0mformat\u001b[0m\u001b[0;34m(\u001b[0m\u001b[0melem_type\u001b[0m\u001b[0;34m)\u001b[0m\u001b[0;34m)\u001b[0m\u001b[0;34m\u001b[0m\u001b[0;34m\u001b[0m\u001b[0m\n",
      "\u001b[0;32m~/anaconda3/envs/pysyft/lib/python3.6/site-packages/torch/utils/data/_utils/collate.py\u001b[0m in \u001b[0;36m<listcomp>\u001b[0;34m(.0)\u001b[0m\n\u001b[1;32m     77\u001b[0m     \u001b[0;32melif\u001b[0m \u001b[0misinstance\u001b[0m\u001b[0;34m(\u001b[0m\u001b[0melem\u001b[0m\u001b[0;34m,\u001b[0m \u001b[0mcontainer_abcs\u001b[0m\u001b[0;34m.\u001b[0m\u001b[0mSequence\u001b[0m\u001b[0;34m)\u001b[0m\u001b[0;34m:\u001b[0m\u001b[0;34m\u001b[0m\u001b[0;34m\u001b[0m\u001b[0m\n\u001b[1;32m     78\u001b[0m         \u001b[0mtransposed\u001b[0m \u001b[0;34m=\u001b[0m \u001b[0mzip\u001b[0m\u001b[0;34m(\u001b[0m\u001b[0;34m*\u001b[0m\u001b[0mbatch\u001b[0m\u001b[0;34m)\u001b[0m\u001b[0;34m\u001b[0m\u001b[0;34m\u001b[0m\u001b[0m\n\u001b[0;32m---> 79\u001b[0;31m         \u001b[0;32mreturn\u001b[0m \u001b[0;34m[\u001b[0m\u001b[0mdefault_collate\u001b[0m\u001b[0;34m(\u001b[0m\u001b[0msamples\u001b[0m\u001b[0;34m)\u001b[0m \u001b[0;32mfor\u001b[0m \u001b[0msamples\u001b[0m \u001b[0;32min\u001b[0m \u001b[0mtransposed\u001b[0m\u001b[0;34m]\u001b[0m\u001b[0;34m\u001b[0m\u001b[0;34m\u001b[0m\u001b[0m\n\u001b[0m\u001b[1;32m     80\u001b[0m \u001b[0;34m\u001b[0m\u001b[0m\n\u001b[1;32m     81\u001b[0m     \u001b[0;32mraise\u001b[0m \u001b[0mTypeError\u001b[0m\u001b[0;34m(\u001b[0m\u001b[0mdefault_collate_err_msg_format\u001b[0m\u001b[0;34m.\u001b[0m\u001b[0mformat\u001b[0m\u001b[0;34m(\u001b[0m\u001b[0melem_type\u001b[0m\u001b[0;34m)\u001b[0m\u001b[0;34m)\u001b[0m\u001b[0;34m\u001b[0m\u001b[0;34m\u001b[0m\u001b[0m\n",
      "\u001b[0;32m~/anaconda3/envs/pysyft/lib/python3.6/site-packages/torch/utils/data/_utils/collate.py\u001b[0m in \u001b[0;36mdefault_collate\u001b[0;34m(batch)\u001b[0m\n\u001b[1;32m     53\u001b[0m             \u001b[0mstorage\u001b[0m \u001b[0;34m=\u001b[0m \u001b[0melem\u001b[0m\u001b[0;34m.\u001b[0m\u001b[0mstorage\u001b[0m\u001b[0;34m(\u001b[0m\u001b[0;34m)\u001b[0m\u001b[0;34m.\u001b[0m\u001b[0m_new_shared\u001b[0m\u001b[0;34m(\u001b[0m\u001b[0mnumel\u001b[0m\u001b[0;34m)\u001b[0m\u001b[0;34m\u001b[0m\u001b[0;34m\u001b[0m\u001b[0m\n\u001b[1;32m     54\u001b[0m             \u001b[0mout\u001b[0m \u001b[0;34m=\u001b[0m \u001b[0melem\u001b[0m\u001b[0;34m.\u001b[0m\u001b[0mnew\u001b[0m\u001b[0;34m(\u001b[0m\u001b[0mstorage\u001b[0m\u001b[0;34m)\u001b[0m\u001b[0;34m\u001b[0m\u001b[0;34m\u001b[0m\u001b[0m\n\u001b[0;32m---> 55\u001b[0;31m         \u001b[0;32mreturn\u001b[0m \u001b[0mtorch\u001b[0m\u001b[0;34m.\u001b[0m\u001b[0mstack\u001b[0m\u001b[0;34m(\u001b[0m\u001b[0mbatch\u001b[0m\u001b[0;34m,\u001b[0m \u001b[0;36m0\u001b[0m\u001b[0;34m,\u001b[0m \u001b[0mout\u001b[0m\u001b[0;34m=\u001b[0m\u001b[0mout\u001b[0m\u001b[0;34m)\u001b[0m\u001b[0;34m\u001b[0m\u001b[0;34m\u001b[0m\u001b[0m\n\u001b[0m\u001b[1;32m     56\u001b[0m     \u001b[0;32melif\u001b[0m \u001b[0melem_type\u001b[0m\u001b[0;34m.\u001b[0m\u001b[0m__module__\u001b[0m \u001b[0;34m==\u001b[0m \u001b[0;34m'numpy'\u001b[0m \u001b[0;32mand\u001b[0m \u001b[0melem_type\u001b[0m\u001b[0;34m.\u001b[0m\u001b[0m__name__\u001b[0m \u001b[0;34m!=\u001b[0m \u001b[0;34m'str_'\u001b[0m\u001b[0;31m \u001b[0m\u001b[0;31m\\\u001b[0m\u001b[0;34m\u001b[0m\u001b[0;34m\u001b[0m\u001b[0m\n\u001b[1;32m     57\u001b[0m             \u001b[0;32mand\u001b[0m \u001b[0melem_type\u001b[0m\u001b[0;34m.\u001b[0m\u001b[0m__name__\u001b[0m \u001b[0;34m!=\u001b[0m \u001b[0;34m'string_'\u001b[0m\u001b[0;34m:\u001b[0m\u001b[0;34m\u001b[0m\u001b[0;34m\u001b[0m\u001b[0m\n",
      "\u001b[0;32m~/anaconda3/envs/pysyft/lib/python3.6/site-packages/syft/generic/frameworks/hook/trace.py\u001b[0m in \u001b[0;36mtrace_wrapper\u001b[0;34m(*args, **kwargs)\u001b[0m\n\u001b[1;32m     81\u001b[0m                 \u001b[0msyft\u001b[0m\u001b[0;34m.\u001b[0m\u001b[0mhook\u001b[0m\u001b[0;34m.\u001b[0m\u001b[0mtrace\u001b[0m\u001b[0;34m.\u001b[0m\u001b[0mlogs\u001b[0m\u001b[0;34m.\u001b[0m\u001b[0mappend\u001b[0m\u001b[0;34m(\u001b[0m\u001b[0;34m(\u001b[0m\u001b[0mcommand\u001b[0m\u001b[0;34m,\u001b[0m \u001b[0mresponse\u001b[0m\u001b[0;34m)\u001b[0m\u001b[0;34m)\u001b[0m\u001b[0;34m\u001b[0m\u001b[0;34m\u001b[0m\u001b[0m\n\u001b[1;32m     82\u001b[0m             \u001b[0;32melse\u001b[0m\u001b[0;34m:\u001b[0m\u001b[0;34m\u001b[0m\u001b[0;34m\u001b[0m\u001b[0m\n\u001b[0;32m---> 83\u001b[0;31m                 \u001b[0mresponse\u001b[0m \u001b[0;34m=\u001b[0m \u001b[0mfunc\u001b[0m\u001b[0;34m(\u001b[0m\u001b[0;34m*\u001b[0m\u001b[0margs\u001b[0m\u001b[0;34m,\u001b[0m \u001b[0;34m**\u001b[0m\u001b[0mkwargs\u001b[0m\u001b[0;34m)\u001b[0m\u001b[0;34m\u001b[0m\u001b[0;34m\u001b[0m\u001b[0m\n\u001b[0m\u001b[1;32m     84\u001b[0m \u001b[0;34m\u001b[0m\u001b[0m\n\u001b[1;32m     85\u001b[0m             \u001b[0;32mreturn\u001b[0m \u001b[0mresponse\u001b[0m\u001b[0;34m\u001b[0m\u001b[0;34m\u001b[0m\u001b[0m\n",
      "\u001b[0;32m~/anaconda3/envs/pysyft/lib/python3.6/site-packages/syft/generic/frameworks/hook/hook.py\u001b[0m in \u001b[0;36moverloaded_func\u001b[0;34m(*args, **kwargs)\u001b[0m\n\u001b[1;32m    584\u001b[0m                 \u001b[0mhandle_func_command\u001b[0m \u001b[0;34m=\u001b[0m \u001b[0msyft\u001b[0m\u001b[0;34m.\u001b[0m\u001b[0mframework\u001b[0m\u001b[0;34m.\u001b[0m\u001b[0mTensor\u001b[0m\u001b[0;34m.\u001b[0m\u001b[0mhandle_func_command\u001b[0m\u001b[0;34m\u001b[0m\u001b[0;34m\u001b[0m\u001b[0m\n\u001b[1;32m    585\u001b[0m \u001b[0;34m\u001b[0m\u001b[0m\n\u001b[0;32m--> 586\u001b[0;31m             \u001b[0mresponse\u001b[0m \u001b[0;34m=\u001b[0m \u001b[0mhandle_func_command\u001b[0m\u001b[0;34m(\u001b[0m\u001b[0mcommand\u001b[0m\u001b[0;34m)\u001b[0m\u001b[0;34m\u001b[0m\u001b[0;34m\u001b[0m\u001b[0m\n\u001b[0m\u001b[1;32m    587\u001b[0m \u001b[0;34m\u001b[0m\u001b[0m\n\u001b[1;32m    588\u001b[0m             \u001b[0;32mreturn\u001b[0m \u001b[0mresponse\u001b[0m\u001b[0;34m\u001b[0m\u001b[0;34m\u001b[0m\u001b[0m\n",
      "\u001b[0;32m~/anaconda3/envs/pysyft/lib/python3.6/site-packages/syft/frameworks/torch/tensors/interpreters/native.py\u001b[0m in \u001b[0;36mhandle_func_command\u001b[0;34m(cls, command)\u001b[0m\n\u001b[1;32m    288\u001b[0m             \u001b[0;31m# Note that we return also args_type which helps handling case 3 in the docstring\u001b[0m\u001b[0;34m\u001b[0m\u001b[0;34m\u001b[0m\u001b[0;34m\u001b[0m\u001b[0m\n\u001b[1;32m    289\u001b[0m             new_args, new_kwargs, new_type, args_type = hook_args.unwrap_args_from_function(\n\u001b[0;32m--> 290\u001b[0;31m                 \u001b[0mcmd\u001b[0m\u001b[0;34m,\u001b[0m \u001b[0margs\u001b[0m\u001b[0;34m,\u001b[0m \u001b[0mkwargs\u001b[0m\u001b[0;34m,\u001b[0m \u001b[0mreturn_args_type\u001b[0m\u001b[0;34m=\u001b[0m\u001b[0;32mTrue\u001b[0m\u001b[0;34m\u001b[0m\u001b[0;34m\u001b[0m\u001b[0m\n\u001b[0m\u001b[1;32m    291\u001b[0m             )\n\u001b[1;32m    292\u001b[0m             \u001b[0;31m# This handles case 3: it redirects the command to the appropriate class depending\u001b[0m\u001b[0;34m\u001b[0m\u001b[0;34m\u001b[0m\u001b[0;34m\u001b[0m\u001b[0m\n",
      "\u001b[0;32m~/anaconda3/envs/pysyft/lib/python3.6/site-packages/syft/generic/frameworks/hook/hook_args.py\u001b[0m in \u001b[0;36munwrap_args_from_function\u001b[0;34m(attr, args, kwargs, return_args_type)\u001b[0m\n\u001b[1;32m    159\u001b[0m     \u001b[0;32mexcept\u001b[0m \u001b[0;34m(\u001b[0m\u001b[0mIndexError\u001b[0m\u001b[0;34m,\u001b[0m \u001b[0mKeyError\u001b[0m\u001b[0;34m,\u001b[0m \u001b[0mAssertionError\u001b[0m\u001b[0;34m)\u001b[0m\u001b[0;34m:\u001b[0m  \u001b[0;31m# Update the function in case of an error\u001b[0m\u001b[0;34m\u001b[0m\u001b[0;34m\u001b[0m\u001b[0m\n\u001b[1;32m    160\u001b[0m         args_hook_function, get_tensor_type_function = build_unwrap_args_from_function(\n\u001b[0;32m--> 161\u001b[0;31m             \u001b[0margs\u001b[0m\u001b[0;34m,\u001b[0m \u001b[0mreturn_tuple\u001b[0m\u001b[0;34m=\u001b[0m\u001b[0;32mTrue\u001b[0m\u001b[0;34m\u001b[0m\u001b[0;34m\u001b[0m\u001b[0m\n\u001b[0m\u001b[1;32m    162\u001b[0m         )\n\u001b[1;32m    163\u001b[0m         \u001b[0;31m# Store the utility functions in registries\u001b[0m\u001b[0;34m\u001b[0m\u001b[0;34m\u001b[0m\u001b[0;34m\u001b[0m\u001b[0m\n",
      "\u001b[0;32m~/anaconda3/envs/pysyft/lib/python3.6/site-packages/syft/generic/frameworks/hook/hook_args.py\u001b[0m in \u001b[0;36mbuild_unwrap_args_from_function\u001b[0;34m(args, return_tuple)\u001b[0m\n\u001b[1;32m    183\u001b[0m     \u001b[0;31m# structure is the same as the args object, with 1 where there was\u001b[0m\u001b[0;34m\u001b[0m\u001b[0;34m\u001b[0m\u001b[0;34m\u001b[0m\u001b[0m\n\u001b[1;32m    184\u001b[0m     \u001b[0;31m# (framework or syft) tensors and 0 when not (ex: number, str, ...)\u001b[0m\u001b[0;34m\u001b[0m\u001b[0;34m\u001b[0m\u001b[0;34m\u001b[0m\u001b[0m\n\u001b[0;32m--> 185\u001b[0;31m     \u001b[0mrule\u001b[0m \u001b[0;34m=\u001b[0m \u001b[0mbuild_rule\u001b[0m\u001b[0;34m(\u001b[0m\u001b[0margs\u001b[0m\u001b[0;34m)\u001b[0m\u001b[0;34m\u001b[0m\u001b[0;34m\u001b[0m\u001b[0m\n\u001b[0m\u001b[1;32m    186\u001b[0m     \u001b[0;31m# Build a function with this rule to efficiently replace syft tensors\u001b[0m\u001b[0;34m\u001b[0m\u001b[0;34m\u001b[0m\u001b[0;34m\u001b[0m\u001b[0m\n\u001b[1;32m    187\u001b[0m     \u001b[0;31m# (but not pointer) with their child in the args objects\u001b[0m\u001b[0;34m\u001b[0m\u001b[0;34m\u001b[0m\u001b[0;34m\u001b[0m\u001b[0m\n",
      "\u001b[0;32m~/anaconda3/envs/pysyft/lib/python3.6/site-packages/syft/generic/frameworks/hook/hook_args.py\u001b[0m in \u001b[0;36mbuild_rule\u001b[0;34m(args)\u001b[0m\n\u001b[1;32m    286\u001b[0m     \u001b[0;31m# for list, tuple but also tensors and syft tensors\u001b[0m\u001b[0;34m\u001b[0m\u001b[0;34m\u001b[0m\u001b[0;34m\u001b[0m\u001b[0m\n\u001b[1;32m    287\u001b[0m     \u001b[0;32mif\u001b[0m \u001b[0mtype_args\u001b[0m \u001b[0;32min\u001b[0m \u001b[0mtype_rule\u001b[0m\u001b[0;34m:\u001b[0m\u001b[0;34m\u001b[0m\u001b[0;34m\u001b[0m\u001b[0m\n\u001b[0;32m--> 288\u001b[0;31m         \u001b[0;32mreturn\u001b[0m \u001b[0mtype_rule\u001b[0m\u001b[0;34m[\u001b[0m\u001b[0mtype_args\u001b[0m\u001b[0;34m]\u001b[0m\u001b[0;34m(\u001b[0m\u001b[0margs\u001b[0m\u001b[0;34m)\u001b[0m\u001b[0;34m\u001b[0m\u001b[0;34m\u001b[0m\u001b[0m\n\u001b[0m\u001b[1;32m    289\u001b[0m     \u001b[0;31m# for int, float, str, etc\u001b[0m\u001b[0;34m\u001b[0m\u001b[0;34m\u001b[0m\u001b[0;34m\u001b[0m\u001b[0m\n\u001b[1;32m    290\u001b[0m     \u001b[0;32melif\u001b[0m \u001b[0mtype_args\u001b[0m \u001b[0;32min\u001b[0m \u001b[0mbase_types\u001b[0m\u001b[0;34m:\u001b[0m\u001b[0;34m\u001b[0m\u001b[0;34m\u001b[0m\u001b[0m\n",
      "\u001b[0;32m~/anaconda3/envs/pysyft/lib/python3.6/site-packages/syft/generic/frameworks/hook/hook_args.py\u001b[0m in \u001b[0;36m<lambda>\u001b[0;34m(_args)\u001b[0m\n\u001b[1;32m     32\u001b[0m type_rule = {\n\u001b[1;32m     33\u001b[0m     \u001b[0mlist\u001b[0m\u001b[0;34m:\u001b[0m \u001b[0;32mlambda\u001b[0m \u001b[0m_args\u001b[0m\u001b[0;34m:\u001b[0m \u001b[0;34m[\u001b[0m\u001b[0mbuild_rule\u001b[0m\u001b[0;34m(\u001b[0m\u001b[0ma\u001b[0m\u001b[0;34m)\u001b[0m \u001b[0;32mfor\u001b[0m \u001b[0ma\u001b[0m \u001b[0;32min\u001b[0m \u001b[0m_args\u001b[0m\u001b[0;34m]\u001b[0m\u001b[0;34m,\u001b[0m\u001b[0;34m\u001b[0m\u001b[0;34m\u001b[0m\u001b[0m\n\u001b[0;32m---> 34\u001b[0;31m     \u001b[0mtuple\u001b[0m\u001b[0;34m:\u001b[0m \u001b[0;32mlambda\u001b[0m \u001b[0m_args\u001b[0m\u001b[0;34m:\u001b[0m \u001b[0mtuple\u001b[0m\u001b[0;34m(\u001b[0m\u001b[0;34m[\u001b[0m\u001b[0mbuild_rule\u001b[0m\u001b[0;34m(\u001b[0m\u001b[0ma\u001b[0m\u001b[0;34m)\u001b[0m \u001b[0;32mfor\u001b[0m \u001b[0ma\u001b[0m \u001b[0;32min\u001b[0m \u001b[0m_args\u001b[0m\u001b[0;34m]\u001b[0m\u001b[0;34m)\u001b[0m\u001b[0;34m,\u001b[0m\u001b[0;34m\u001b[0m\u001b[0;34m\u001b[0m\u001b[0m\n\u001b[0m\u001b[1;32m     35\u001b[0m     \u001b[0mdict\u001b[0m\u001b[0;34m:\u001b[0m \u001b[0mone\u001b[0m\u001b[0;34m,\u001b[0m  \u001b[0;31m# FIXME This is for additiveShareTensor.child, it can be confusing and AST.child\u001b[0m\u001b[0;34m\u001b[0m\u001b[0;34m\u001b[0m\u001b[0m\n\u001b[1;32m     36\u001b[0m     \u001b[0mnp\u001b[0m\u001b[0;34m.\u001b[0m\u001b[0mndarray\u001b[0m\u001b[0;34m:\u001b[0m \u001b[0mone\u001b[0m\u001b[0;34m,\u001b[0m\u001b[0;34m\u001b[0m\u001b[0;34m\u001b[0m\u001b[0m\n",
      "\u001b[0;32m~/anaconda3/envs/pysyft/lib/python3.6/site-packages/syft/generic/frameworks/hook/hook_args.py\u001b[0m in \u001b[0;36m<listcomp>\u001b[0;34m(.0)\u001b[0m\n\u001b[1;32m     32\u001b[0m type_rule = {\n\u001b[1;32m     33\u001b[0m     \u001b[0mlist\u001b[0m\u001b[0;34m:\u001b[0m \u001b[0;32mlambda\u001b[0m \u001b[0m_args\u001b[0m\u001b[0;34m:\u001b[0m \u001b[0;34m[\u001b[0m\u001b[0mbuild_rule\u001b[0m\u001b[0;34m(\u001b[0m\u001b[0ma\u001b[0m\u001b[0;34m)\u001b[0m \u001b[0;32mfor\u001b[0m \u001b[0ma\u001b[0m \u001b[0;32min\u001b[0m \u001b[0m_args\u001b[0m\u001b[0;34m]\u001b[0m\u001b[0;34m,\u001b[0m\u001b[0;34m\u001b[0m\u001b[0;34m\u001b[0m\u001b[0m\n\u001b[0;32m---> 34\u001b[0;31m     \u001b[0mtuple\u001b[0m\u001b[0;34m:\u001b[0m \u001b[0;32mlambda\u001b[0m \u001b[0m_args\u001b[0m\u001b[0;34m:\u001b[0m \u001b[0mtuple\u001b[0m\u001b[0;34m(\u001b[0m\u001b[0;34m[\u001b[0m\u001b[0mbuild_rule\u001b[0m\u001b[0;34m(\u001b[0m\u001b[0ma\u001b[0m\u001b[0;34m)\u001b[0m \u001b[0;32mfor\u001b[0m \u001b[0ma\u001b[0m \u001b[0;32min\u001b[0m \u001b[0m_args\u001b[0m\u001b[0;34m]\u001b[0m\u001b[0;34m)\u001b[0m\u001b[0;34m,\u001b[0m\u001b[0;34m\u001b[0m\u001b[0;34m\u001b[0m\u001b[0m\n\u001b[0m\u001b[1;32m     35\u001b[0m     \u001b[0mdict\u001b[0m\u001b[0;34m:\u001b[0m \u001b[0mone\u001b[0m\u001b[0;34m,\u001b[0m  \u001b[0;31m# FIXME This is for additiveShareTensor.child, it can be confusing and AST.child\u001b[0m\u001b[0;34m\u001b[0m\u001b[0;34m\u001b[0m\u001b[0m\n\u001b[1;32m     36\u001b[0m     \u001b[0mnp\u001b[0m\u001b[0;34m.\u001b[0m\u001b[0mndarray\u001b[0m\u001b[0;34m:\u001b[0m \u001b[0mone\u001b[0m\u001b[0;34m,\u001b[0m\u001b[0;34m\u001b[0m\u001b[0;34m\u001b[0m\u001b[0m\n",
      "\u001b[0;32m~/anaconda3/envs/pysyft/lib/python3.6/site-packages/syft/generic/frameworks/hook/hook_args.py\u001b[0m in \u001b[0;36mbuild_rule\u001b[0;34m(args)\u001b[0m\n\u001b[1;32m    286\u001b[0m     \u001b[0;31m# for list, tuple but also tensors and syft tensors\u001b[0m\u001b[0;34m\u001b[0m\u001b[0;34m\u001b[0m\u001b[0;34m\u001b[0m\u001b[0m\n\u001b[1;32m    287\u001b[0m     \u001b[0;32mif\u001b[0m \u001b[0mtype_args\u001b[0m \u001b[0;32min\u001b[0m \u001b[0mtype_rule\u001b[0m\u001b[0;34m:\u001b[0m\u001b[0;34m\u001b[0m\u001b[0;34m\u001b[0m\u001b[0m\n\u001b[0;32m--> 288\u001b[0;31m         \u001b[0;32mreturn\u001b[0m \u001b[0mtype_rule\u001b[0m\u001b[0;34m[\u001b[0m\u001b[0mtype_args\u001b[0m\u001b[0;34m]\u001b[0m\u001b[0;34m(\u001b[0m\u001b[0margs\u001b[0m\u001b[0;34m)\u001b[0m\u001b[0;34m\u001b[0m\u001b[0;34m\u001b[0m\u001b[0m\n\u001b[0m\u001b[1;32m    289\u001b[0m     \u001b[0;31m# for int, float, str, etc\u001b[0m\u001b[0;34m\u001b[0m\u001b[0;34m\u001b[0m\u001b[0;34m\u001b[0m\u001b[0m\n\u001b[1;32m    290\u001b[0m     \u001b[0;32melif\u001b[0m \u001b[0mtype_args\u001b[0m \u001b[0;32min\u001b[0m \u001b[0mbase_types\u001b[0m\u001b[0;34m:\u001b[0m\u001b[0;34m\u001b[0m\u001b[0;34m\u001b[0m\u001b[0m\n",
      "\u001b[0;32m~/anaconda3/envs/pysyft/lib/python3.6/site-packages/syft/generic/frameworks/hook/hook_args.py\u001b[0m in \u001b[0;36m<lambda>\u001b[0;34m(_args)\u001b[0m\n\u001b[1;32m     32\u001b[0m type_rule = {\n\u001b[1;32m     33\u001b[0m     \u001b[0mlist\u001b[0m\u001b[0;34m:\u001b[0m \u001b[0;32mlambda\u001b[0m \u001b[0m_args\u001b[0m\u001b[0;34m:\u001b[0m \u001b[0;34m[\u001b[0m\u001b[0mbuild_rule\u001b[0m\u001b[0;34m(\u001b[0m\u001b[0ma\u001b[0m\u001b[0;34m)\u001b[0m \u001b[0;32mfor\u001b[0m \u001b[0ma\u001b[0m \u001b[0;32min\u001b[0m \u001b[0m_args\u001b[0m\u001b[0;34m]\u001b[0m\u001b[0;34m,\u001b[0m\u001b[0;34m\u001b[0m\u001b[0;34m\u001b[0m\u001b[0m\n\u001b[0;32m---> 34\u001b[0;31m     \u001b[0mtuple\u001b[0m\u001b[0;34m:\u001b[0m \u001b[0;32mlambda\u001b[0m \u001b[0m_args\u001b[0m\u001b[0;34m:\u001b[0m \u001b[0mtuple\u001b[0m\u001b[0;34m(\u001b[0m\u001b[0;34m[\u001b[0m\u001b[0mbuild_rule\u001b[0m\u001b[0;34m(\u001b[0m\u001b[0ma\u001b[0m\u001b[0;34m)\u001b[0m \u001b[0;32mfor\u001b[0m \u001b[0ma\u001b[0m \u001b[0;32min\u001b[0m \u001b[0m_args\u001b[0m\u001b[0;34m]\u001b[0m\u001b[0;34m)\u001b[0m\u001b[0;34m,\u001b[0m\u001b[0;34m\u001b[0m\u001b[0;34m\u001b[0m\u001b[0m\n\u001b[0m\u001b[1;32m     35\u001b[0m     \u001b[0mdict\u001b[0m\u001b[0;34m:\u001b[0m \u001b[0mone\u001b[0m\u001b[0;34m,\u001b[0m  \u001b[0;31m# FIXME This is for additiveShareTensor.child, it can be confusing and AST.child\u001b[0m\u001b[0;34m\u001b[0m\u001b[0;34m\u001b[0m\u001b[0m\n\u001b[1;32m     36\u001b[0m     \u001b[0mnp\u001b[0m\u001b[0;34m.\u001b[0m\u001b[0mndarray\u001b[0m\u001b[0;34m:\u001b[0m \u001b[0mone\u001b[0m\u001b[0;34m,\u001b[0m\u001b[0;34m\u001b[0m\u001b[0;34m\u001b[0m\u001b[0m\n",
      "\u001b[0;32m~/anaconda3/envs/pysyft/lib/python3.6/site-packages/syft/generic/frameworks/hook/hook_args.py\u001b[0m in \u001b[0;36m<listcomp>\u001b[0;34m(.0)\u001b[0m\n\u001b[1;32m     32\u001b[0m type_rule = {\n\u001b[1;32m     33\u001b[0m     \u001b[0mlist\u001b[0m\u001b[0;34m:\u001b[0m \u001b[0;32mlambda\u001b[0m \u001b[0m_args\u001b[0m\u001b[0;34m:\u001b[0m \u001b[0;34m[\u001b[0m\u001b[0mbuild_rule\u001b[0m\u001b[0;34m(\u001b[0m\u001b[0ma\u001b[0m\u001b[0;34m)\u001b[0m \u001b[0;32mfor\u001b[0m \u001b[0ma\u001b[0m \u001b[0;32min\u001b[0m \u001b[0m_args\u001b[0m\u001b[0;34m]\u001b[0m\u001b[0;34m,\u001b[0m\u001b[0;34m\u001b[0m\u001b[0;34m\u001b[0m\u001b[0m\n\u001b[0;32m---> 34\u001b[0;31m     \u001b[0mtuple\u001b[0m\u001b[0;34m:\u001b[0m \u001b[0;32mlambda\u001b[0m \u001b[0m_args\u001b[0m\u001b[0;34m:\u001b[0m \u001b[0mtuple\u001b[0m\u001b[0;34m(\u001b[0m\u001b[0;34m[\u001b[0m\u001b[0mbuild_rule\u001b[0m\u001b[0;34m(\u001b[0m\u001b[0ma\u001b[0m\u001b[0;34m)\u001b[0m \u001b[0;32mfor\u001b[0m \u001b[0ma\u001b[0m \u001b[0;32min\u001b[0m \u001b[0m_args\u001b[0m\u001b[0;34m]\u001b[0m\u001b[0;34m)\u001b[0m\u001b[0;34m,\u001b[0m\u001b[0;34m\u001b[0m\u001b[0;34m\u001b[0m\u001b[0m\n\u001b[0m\u001b[1;32m     35\u001b[0m     \u001b[0mdict\u001b[0m\u001b[0;34m:\u001b[0m \u001b[0mone\u001b[0m\u001b[0;34m,\u001b[0m  \u001b[0;31m# FIXME This is for additiveShareTensor.child, it can be confusing and AST.child\u001b[0m\u001b[0;34m\u001b[0m\u001b[0;34m\u001b[0m\u001b[0m\n\u001b[1;32m     36\u001b[0m     \u001b[0mnp\u001b[0m\u001b[0;34m.\u001b[0m\u001b[0mndarray\u001b[0m\u001b[0;34m:\u001b[0m \u001b[0mone\u001b[0m\u001b[0;34m,\u001b[0m\u001b[0;34m\u001b[0m\u001b[0;34m\u001b[0m\u001b[0m\n",
      "\u001b[0;32m~/anaconda3/envs/pysyft/lib/python3.6/site-packages/syft/generic/frameworks/hook/hook_args.py\u001b[0m in \u001b[0;36mbuild_rule\u001b[0;34m(args)\u001b[0m\n\u001b[1;32m    283\u001b[0m     \"\"\"\n\u001b[1;32m    284\u001b[0m \u001b[0;34m\u001b[0m\u001b[0m\n\u001b[0;32m--> 285\u001b[0;31m     \u001b[0mtype_args\u001b[0m \u001b[0;34m=\u001b[0m \u001b[0mtype\u001b[0m\u001b[0;34m(\u001b[0m\u001b[0margs\u001b[0m\u001b[0;34m)\u001b[0m\u001b[0;34m\u001b[0m\u001b[0;34m\u001b[0m\u001b[0m\n\u001b[0m\u001b[1;32m    286\u001b[0m     \u001b[0;31m# for list, tuple but also tensors and syft tensors\u001b[0m\u001b[0;34m\u001b[0m\u001b[0;34m\u001b[0m\u001b[0;34m\u001b[0m\u001b[0m\n\u001b[1;32m    287\u001b[0m     \u001b[0;32mif\u001b[0m \u001b[0mtype_args\u001b[0m \u001b[0;32min\u001b[0m \u001b[0mtype_rule\u001b[0m\u001b[0;34m:\u001b[0m\u001b[0;34m\u001b[0m\u001b[0;34m\u001b[0m\u001b[0m\n",
      "\u001b[0;31mKeyboardInterrupt\u001b[0m: "
     ]
    }
   ],
   "source": [
    "epoch_loss = []\n",
    "for epoch in range(args.epochs):\n",
    "    start_time = time.time()\n",
    "    running_loss = 0\n",
    "    print(\"Epoch Number = {}\".format(epoch+1))\n",
    "    for data, target in train_loader:\n",
    "        target = target.long().view(-1)\n",
    "        optimizer_G.zero_grad()\n",
    "        output = model_G.forward(data)\n",
    "        loss = criterion(output,target)\n",
    "        loss.backward()\n",
    "        optimizer_G.step()\n",
    "        running_loss += loss.item()\n",
    "    running_loss /= len(test_loader.dataset)\n",
    "    epoch_loss.append(running_loss)\n",
    "    print(\"Running Loss = {}\".format(running_loss))\n",
    "    total_time = time.time() - start_time\n",
    "    print('Time consumed {} s\\n'.format(round(total_time, 2)))"
   ]
  },
  {
   "cell_type": "code",
   "execution_count": 207,
   "metadata": {},
   "outputs": [
    {
     "data": {
      "image/png": "[encoded data removed]",
      "text/plain": [
       "<Figure size 432x288 with 1 Axes>"
      ]
     },
     "metadata": {
      "needs_background": "light"
     },
     "output_type": "display_data"
    }
   ],
   "source": [
    "%matplotlib inline\n",
    "plt.plot(np.array(epoch_loss))\n",
    "plt.show()"
   ]
  },
  {
   "cell_type": "code",
   "execution_count": 208,
   "metadata": {},
   "outputs": [
    {
     "name": "stdout",
     "output_type": "stream",
     "text": [
      "Precision = 0.10822510822510822\n",
      "Recall = 0.6756756756756757\n",
      "Accuracy = 0.564\n",
      "Precision = 0.12317327766179541\n",
      "Recall = 0.7468354430379747\n",
      "Accuracy = 0.56\n",
      "Precision = 0.1411042944785276\n",
      "Recall = 0.7931034482758621\n",
      "Accuracy = 0.562\n",
      "Precision = 0.10251046025104603\n",
      "Recall = 0.6805555555555556\n",
      "Accuracy = 0.548\n",
      "Precision = 0.12903225806451613\n",
      "Recall = 0.810126582278481\n",
      "Accuracy = 0.553\n",
      "Precision = 0.1115702479338843\n",
      "Recall = 0.6506024096385542\n",
      "Accuracy = 0.541\n",
      "Precision = 0.13250517598343686\n",
      "Recall = 0.7804878048780488\n",
      "Accuracy = 0.563\n",
      "Precision = 0.10743801652892562\n",
      "Recall = 0.7536231884057971\n",
      "Accuracy = 0.551\n",
      "Precision = 0.14556962025316456\n",
      "Recall = 0.7582417582417582\n",
      "Accuracy = 0.573\n",
      "Precision = 0.12133891213389121\n",
      "Recall = 0.7945205479452054\n",
      "Accuracy = 0.565\n",
      "Precision = 0.13580246913580246\n",
      "Recall = 0.7764705882352941\n",
      "Accuracy = 0.561\n",
      "Precision = 0.10995850622406639\n",
      "Recall = 0.7361111111111112\n",
      "Accuracy = 0.552\n",
      "Precision = 0.13916500994035785\n",
      "Recall = 0.7692307692307693\n",
      "Accuracy = 0.546\n",
      "Precision = 0.124\n",
      "Recall = 0.8157894736842105\n",
      "Accuracy = 0.548\n",
      "Precision = 0.1417004048582996\n",
      "Recall = 0.7446808510638298\n",
      "Accuracy = 0.552\n",
      "Precision = 0.11496746203904555\n",
      "Recall = 0.6463414634146342\n",
      "Accuracy = 0.563\n",
      "Precision = 0.13016528925619836\n",
      "Recall = 0.7078651685393258\n",
      "Accuracy = 0.553\n",
      "Precision = 0.1062992125984252\n",
      "Recall = 0.7714285714285715\n",
      "Accuracy = 0.53\n",
      "Precision = 0.11811023622047244\n",
      "Recall = 0.7407407407407407\n",
      "Accuracy = 0.531\n",
      "Precision = 0.11252653927813164\n",
      "Recall = 0.7361111111111112\n",
      "Accuracy = 0.563\n",
      "Precision = 0.1419068736141907\n",
      "Recall = 0.7619047619047619\n",
      "Accuracy = 0.593\n",
      "Precision = 0.13291139240506328\n",
      "Recall = 0.7777777777777778\n",
      "Accuracy = 0.571\n",
      "Precision = 0.102\n",
      "Recall = 0.7727272727272727\n",
      "Accuracy = 0.536\n",
      "Precision = 0.13742071881606766\n",
      "Recall = 0.7386363636363636\n",
      "Accuracy = 0.569\n",
      "Precision = 0.11504424778761062\n",
      "Recall = 0.7222222222222222\n",
      "Accuracy = 0.58\n",
      "Precision = 0.13389121338912133\n",
      "Recall = 0.7710843373493976\n",
      "Accuracy = 0.567\n",
      "Precision = 0.13238289205702647\n",
      "Recall = 0.7647058823529411\n",
      "Accuracy = 0.554\n",
      "Precision = 0.12343096234309624\n",
      "Recall = 0.7283950617283951\n",
      "Accuracy = 0.559\n",
      "Precision = 0.13191489361702127\n",
      "Recall = 0.7469879518072289\n",
      "Accuracy = 0.571\n",
      "Precision = 0.12421052631578948\n",
      "Recall = 0.7468354430379747\n",
      "Accuracy = 0.564\n",
      "Precision = 0.125\n",
      "Recall = 0.7402597402597403\n",
      "Accuracy = 0.581\n",
      "Precision = 0.1172962226640159\n",
      "Recall = 0.7866666666666666\n",
      "Accuracy = 0.54\n",
      "Precision = 0.14634146341463414\n",
      "Recall = 0.75\n",
      "Accuracy = 0.556\n",
      "Precision = 0.10743801652892562\n",
      "Recall = 0.7323943661971831\n",
      "Accuracy = 0.549\n",
      "Precision = 0.1282565130260521\n",
      "Recall = 0.7619047619047619\n",
      "Accuracy = 0.545\n",
      "Precision = 0.12133891213389121\n",
      "Recall = 0.6987951807228916\n",
      "Accuracy = 0.555\n",
      "Precision = 0.15885947046843177\n",
      "Recall = 0.7572815533980582\n",
      "Accuracy = 0.562\n",
      "Precision = 0.125\n",
      "Recall = 0.7088607594936709\n",
      "Accuracy = 0.585\n",
      "Precision = 0.17227722772277226\n",
      "Recall = 0.8446601941747572\n",
      "Accuracy = 0.566\n",
      "Precision = 0.13026052104208416\n",
      "Recall = 0.8227848101265823\n",
      "Accuracy = 0.552\n",
      "Precision = 0.10261569416498995\n",
      "Recall = 0.6710526315789473\n",
      "Accuracy = 0.529\n",
      "Precision = 0.13882863340563992\n",
      "Recall = 0.8\n",
      "Accuracy = 0.587\n",
      "Precision = 0.14910536779324055\n",
      "Recall = 0.8620689655172413\n",
      "Accuracy = 0.56\n",
      "Precision = 0.14056224899598393\n",
      "Recall = 0.875\n",
      "Accuracy = 0.562\n",
      "Precision = 0.1422319474835886\n",
      "Recall = 0.8024691358024691\n",
      "Accuracy = 0.592\n",
      "Precision = 0.1454183266932271\n",
      "Recall = 0.8690476190476191\n",
      "Accuracy = 0.56\n",
      "Precision = 0.11363636363636363\n",
      "Recall = 0.7971014492753623\n",
      "Accuracy = 0.557\n",
      "Precision = 0.12578616352201258\n",
      "Recall = 0.6896551724137931\n",
      "Accuracy = 0.556\n",
      "Precision = 0.1288981288981289\n",
      "Recall = 0.7654320987654321\n",
      "Accuracy = 0.562\n",
      "Precision = 0.12320328542094455\n",
      "Recall = 0.7792207792207793\n",
      "Accuracy = 0.556\n",
      "Precision = 0.1320754716981132\n",
      "Recall = 0.7411764705882353\n",
      "Accuracy = 0.564\n",
      "Precision = 0.13070539419087138\n",
      "Recall = 0.7078651685393258\n",
      "Accuracy = 0.555\n",
      "Precision = 0.12421052631578948\n",
      "Recall = 0.8194444444444444\n",
      "Accuracy = 0.571\n",
      "Precision = 0.1271186440677966\n",
      "Recall = 0.7228915662650602\n",
      "Accuracy = 0.565\n",
      "Precision = 0.116\n",
      "Recall = 0.7435897435897436\n",
      "Accuracy = 0.538\n",
      "Precision = 0.11739130434782609\n",
      "Recall = 0.7605633802816901\n",
      "Accuracy = 0.577\n",
      "Precision = 0.1053763440860215\n",
      "Recall = 0.7\n",
      "Accuracy = 0.563\n",
      "Precision = 0.13978494623655913\n",
      "Recall = 0.7471264367816092\n",
      "Accuracy = 0.578\n",
      "Precision = 0.14314928425357873\n",
      "Recall = 0.8235294117647058\n",
      "Accuracy = 0.566\n",
      "Precision = 0.13771186440677965\n",
      "Recall = 0.8333333333333334\n",
      "Accuracy = 0.58\n",
      "Precision = 0.1079913606911447\n",
      "Recall = 0.7352941176470589\n",
      "Accuracy = 0.569\n",
      "Precision = 0.13414634146341464\n",
      "Recall = 0.75\n",
      "Accuracy = 0.5546719681908548\n",
      "Test set: Average loss: 0.0007\n"
     ]
    }
   ],
   "source": [
    "model_G.eval()\n",
    "test_loss = 0\n",
    "avg_precision = 0\n",
    "avg_accuracy = 0\n",
    "avg_recall = 0\n",
    "num_iter = 0\n",
    "for data, target in test_loader:\n",
    "    target = target.long()\n",
    "    output = model_G(data)\n",
    "    test_loss += criterion(output,target.view(-1)).item()\n",
    "    prediction = output.data.max(1, keepdim=True)[1]\n",
    "    target_array = target.numpy().flatten()\n",
    "    prediction_array = prediction.numpy().flatten()\n",
    "    precision = precision_score(target_array, prediction_array)\n",
    "    avg_precision += precision\n",
    "    accuracy = accuracy_score(target_array, prediction_array)\n",
    "    avg_accuracy += accuracy\n",
    "    recall = recall_score(target_array, prediction_array)\n",
    "    avg_recall += recall\n",
    "    num_iter += 1\n",
    "    print(\"Precision = {}\".format(precision))\n",
    "    print(\"Recall = {}\".format(recall))\n",
    "    print(\"Accuracy = {}\".format(accuracy))\n",
    "\n",
    "test_loss /= len(test_loader.dataset)\n",
    "avg_precision /= num_iter #len(test_loader.dataset)\n",
    "avg_accuracy /= num_iter #len(test_loader.dataset)\n",
    "avg_recall /= num_iter #len(test_loader.dataset)\n",
    "print('Test set: Average loss: {:.4f}'.format(test_loss))"
   ]
  },
  {
   "cell_type": "code",
   "execution_count": 209,
   "metadata": {},
   "outputs": [
    {
     "data": {
      "text/plain": [
       "0.1272305195190791"
      ]
     },
     "execution_count": 209,
     "metadata": {},
     "output_type": "execute_result"
    }
   ],
   "source": [
    "avg_precision"
   ]
  },
  {
   "cell_type": "code",
   "execution_count": 210,
   "metadata": {},
   "outputs": [
    {
     "data": {
      "text/plain": [
       "0.5602527736804978"
      ]
     },
     "execution_count": 210,
     "metadata": {},
     "output_type": "execute_result"
    }
   ],
   "source": [
    "avg_accuracy"
   ]
  },
  {
   "cell_type": "code",
   "execution_count": 211,
   "metadata": {},
   "outputs": [
    {
     "data": {
      "text/plain": [
       "0.7583756337877099"
      ]
     },
     "execution_count": 211,
     "metadata": {},
     "output_type": "execute_result"
    }
   ],
   "source": [
    "avg_recall"
   ]
  },
  {
   "cell_type": "code",
   "execution_count": 224,
   "metadata": {},
   "outputs": [],
   "source": [
    "import diffprivlib\n",
    "import sklearn\n",
    "from diffprivlib.models import LogisticRegression"
   ]
  },
  {
   "cell_type": "code",
   "execution_count": 230,
   "metadata": {},
   "outputs": [
    {
     "name": "stderr",
     "output_type": "stream",
     "text": [
      "/home/sidroy/anaconda3/envs/pysyft/lib/python3.6/site-packages/diffprivlib/models/logistic_regression.py:218: PrivacyLeakWarning: Data norm has not been specified and will be calculated on the data provided.  This will result in additional privacy leakage. To ensure differential privacy and no additional privacy leakage, specify `data_norm` at initialisation.\n",
      "  \"privacy leakage, specify `data_norm` at initialisation.\", PrivacyLeakWarning)\n",
      "/home/sidroy/anaconda3/envs/pysyft/lib/python3.6/site-packages/diffprivlib/models/logistic_regression.py:218: PrivacyLeakWarning: Data norm has not been specified and will be calculated on the data provided.  This will result in additional privacy leakage. To ensure differential privacy and no additional privacy leakage, specify `data_norm` at initialisation.\n",
      "  \"privacy leakage, specify `data_norm` at initialisation.\", PrivacyLeakWarning)\n",
      "/home/sidroy/anaconda3/envs/pysyft/lib/python3.6/site-packages/diffprivlib/models/logistic_regression.py:218: PrivacyLeakWarning: Data norm has not been specified and will be calculated on the data provided.  This will result in additional privacy leakage. To ensure differential privacy and no additional privacy leakage, specify `data_norm` at initialisation.\n",
      "  \"privacy leakage, specify `data_norm` at initialisation.\", PrivacyLeakWarning)\n",
      "/home/sidroy/anaconda3/envs/pysyft/lib/python3.6/site-packages/diffprivlib/models/logistic_regression.py:218: PrivacyLeakWarning: Data norm has not been specified and will be calculated on the data provided.  This will result in additional privacy leakage. To ensure differential privacy and no additional privacy leakage, specify `data_norm` at initialisation.\n",
      "  \"privacy leakage, specify `data_norm` at initialisation.\", PrivacyLeakWarning)\n",
      "/home/sidroy/anaconda3/envs/pysyft/lib/python3.6/site-packages/diffprivlib/models/logistic_regression.py:218: PrivacyLeakWarning: Data norm has not been specified and will be calculated on the data provided.  This will result in additional privacy leakage. To ensure differential privacy and no additional privacy leakage, specify `data_norm` at initialisation.\n",
      "  \"privacy leakage, specify `data_norm` at initialisation.\", PrivacyLeakWarning)\n",
      "/home/sidroy/anaconda3/envs/pysyft/lib/python3.6/site-packages/diffprivlib/models/logistic_regression.py:218: PrivacyLeakWarning: Data norm has not been specified and will be calculated on the data provided.  This will result in additional privacy leakage. To ensure differential privacy and no additional privacy leakage, specify `data_norm` at initialisation.\n",
      "  \"privacy leakage, specify `data_norm` at initialisation.\", PrivacyLeakWarning)\n"
     ]
    },
    {
     "data": {
      "image/png": "[encoded data removed]",
      "text/plain": [
       "<Figure size 432x288 with 1 Axes>"
      ]
     },
     "metadata": {
      "needs_background": "light"
     },
     "output_type": "display_data"
    }
   ],
   "source": [
    "data_train = credit_X_train.to_numpy()\n",
    "labels_train = credit_Y_train.to_numpy().flatten()\n",
    "data_test = credit_X_test.to_numpy()\n",
    "labels_test = credit_Y_test.to_numpy().flatten()\n",
    "\n",
    "def sweep(eps=[0.00001, 0.001, 0.01, 10, 1000, 10000]):\n",
    "    accuracy = []\n",
    "    for i in range(len(eps)):\n",
    "        model = LogisticRegression(epsilon=eps[i],max_iter=10000,tol=0.000001)\n",
    "        model.fit(data_train, labels_train)\n",
    "        accuracy.append(sklearn.metrics.precision_score(labels_test, model.predict(data_test)))\n",
    "    return accuracy \n",
    "\n",
    "eps=[0.00001, 0.001, 0.01, 10, 1000, 10000] \n",
    "\n",
    "accuracy = sweep(eps)\n",
    "\n",
    "\n",
    "plt.figure() # notice that the accuracy for each value changes every time you run it with the same values \n",
    "plt.semilogx(eps, accuracy) # this is because random noise is... well, random, so the accuracy shifts a bit based on how the data was altered each time! \n",
    "plt.title('Privacy-Precision Trade-Off')\n",
    "plt.xlabel('Epsilon')\n",
    "plt.ylabel('Precision')\n",
    "plt.show()"
   ]
  },
  {
   "cell_type": "code",
   "execution_count": null,
   "metadata": {},
   "outputs": [],
   "source": []
  }
 ],
 "metadata": {
  "kernelspec": {
   "display_name": "Python 3",
   "language": "python",
   "name": "python3"
  },
  "language_info": {
   "codemirror_mode": {
    "name": "ipython",
    "version": 3
   },
   "file_extension": ".py",
   "mimetype": "text/x-python",
   "name": "python",
   "nbconvert_exporter": "python",
   "pygments_lexer": "ipython3",
   "version": "3.6.10"
  }
 },
 "nbformat": 4,
 "nbformat_minor": 4
}
