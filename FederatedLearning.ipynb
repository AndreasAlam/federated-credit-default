{
 "cells": [
  {
   "cell_type": "code",
   "execution_count": 1,
   "metadata": {},
   "outputs": [
    {
     "name": "stderr",
     "output_type": "stream",
     "text": [
      "Using TensorFlow backend.\n",
      "/home/sidroy/anaconda3/envs/pysyft/lib/python3.6/site-packages/tensorflow/python/framework/dtypes.py:526: FutureWarning: Passing (type, 1) or '1type' as a synonym of type is deprecated; in a future version of numpy, it will be understood as (type, (1,)) / '(1,)type'.\n",
      "  _np_qint8 = np.dtype([(\"qint8\", np.int8, 1)])\n",
      "/home/sidroy/anaconda3/envs/pysyft/lib/python3.6/site-packages/tensorflow/python/framework/dtypes.py:527: FutureWarning: Passing (type, 1) or '1type' as a synonym of type is deprecated; in a future version of numpy, it will be understood as (type, (1,)) / '(1,)type'.\n",
      "  _np_quint8 = np.dtype([(\"quint8\", np.uint8, 1)])\n",
      "/home/sidroy/anaconda3/envs/pysyft/lib/python3.6/site-packages/tensorflow/python/framework/dtypes.py:528: FutureWarning: Passing (type, 1) or '1type' as a synonym of type is deprecated; in a future version of numpy, it will be understood as (type, (1,)) / '(1,)type'.\n",
      "  _np_qint16 = np.dtype([(\"qint16\", np.int16, 1)])\n",
      "/home/sidroy/anaconda3/envs/pysyft/lib/python3.6/site-packages/tensorflow/python/framework/dtypes.py:529: FutureWarning: Passing (type, 1) or '1type' as a synonym of type is deprecated; in a future version of numpy, it will be understood as (type, (1,)) / '(1,)type'.\n",
      "  _np_quint16 = np.dtype([(\"quint16\", np.uint16, 1)])\n",
      "/home/sidroy/anaconda3/envs/pysyft/lib/python3.6/site-packages/tensorflow/python/framework/dtypes.py:530: FutureWarning: Passing (type, 1) or '1type' as a synonym of type is deprecated; in a future version of numpy, it will be understood as (type, (1,)) / '(1,)type'.\n",
      "  _np_qint32 = np.dtype([(\"qint32\", np.int32, 1)])\n",
      "/home/sidroy/anaconda3/envs/pysyft/lib/python3.6/site-packages/tensorflow/python/framework/dtypes.py:535: FutureWarning: Passing (type, 1) or '1type' as a synonym of type is deprecated; in a future version of numpy, it will be understood as (type, (1,)) / '(1,)type'.\n",
      "  np_resource = np.dtype([(\"resource\", np.ubyte, 1)])\n"
     ]
    }
   ],
   "source": [
    "from dataloader import DatasetLoader\n",
    "from preprocessing import Imputer\n",
    "from models import Net\n",
    "import syft as sy\n",
    "import torch\n",
    "from config import cfg\n",
    "import torch.optim as optim\n",
    "from models import update_model\n",
    "from models import test_model\n",
    "from models import train_on_devices\n",
    "import time\n",
    "import copy"
   ]
  },
  {
   "cell_type": "markdown",
   "metadata": {},
   "source": [
    "### Preprocessing and conversion to pytorch form"
   ]
  },
  {
   "cell_type": "code",
   "execution_count": 2,
   "metadata": {},
   "outputs": [],
   "source": [
    "impute_data = False # if set false previously imputed data will be used\n",
    "\n",
    "# create an instance of the class DatasetLoader\n",
    "# This is essentially your data\n",
    "data = DatasetLoader()\n",
    "\n",
    "if impute_data:\n",
    "    imputer = Imputer(data)\n",
    "    data.df = imputer.transform()\n",
    "\n",
    "# load imputed data (saved from the imputation process)\n",
    "data.load_imputed()\n",
    "\n",
    "# split data into training and testing set\n",
    "data.train_test_split()\n",
    "\n",
    "# since there is a class imbalance problem oversampling technique is used\n",
    "data.oversample_training_data()\n",
    "\n",
    "# the dataset is scaled using scikitlearn's standard scaler\n",
    "data.standard_scale()\n",
    "\n",
    "# convert pandas df to pytorch form (pytorch tensors, data loaders etc)\n",
    "data.to_PyTorch()"
   ]
  },
  {
   "cell_type": "markdown",
   "metadata": {},
   "source": [
    "### Devices for training\n",
    "hook to virtual workers"
   ]
  },
  {
   "cell_type": "code",
   "execution_count": 3,
   "metadata": {},
   "outputs": [],
   "source": [
    "hook = sy.TorchHook(torch)\n",
    "bob_device = sy.VirtualWorker(hook, id='bob')\n",
    "alice_device = sy.VirtualWorker(hook, id='alice')\n",
    "devices = [bob_device, alice_device]"
   ]
  },
  {
   "cell_type": "markdown",
   "metadata": {},
   "source": [
    "### Sending data over to the devices for training with on device capability"
   ]
  },
  {
   "cell_type": "code",
   "execution_count": null,
   "metadata": {},
   "outputs": [],
   "source": [
    "remote_dataset = (list(), list())\n",
    "train_distributed_dataset = []\n",
    "\n",
    "for batch_idx, (data, target) in enumerate(data.train_loader):\n",
    "    device_id = batch_idx % len(devices)\n",
    "    data = data.send(devices[device_id])\n",
    "    target = target.send(devices[device_id])\n",
    "    remote_dataset[device_id].append((data, target))"
   ]
  },
  {
   "cell_type": "markdown",
   "metadata": {},
   "source": [
    "### Create models and optimizers for each device"
   ]
  },
  {
   "cell_type": "code",
   "execution_count": null,
   "metadata": {},
   "outputs": [],
   "source": [
    "model_bob_device = Net()\n",
    "model_alice_device = Net()\n",
    "optimizer_bob = optim.SGD(model_bob_device.parameters(), lr=cfg.ARGS.LR)\n",
    "optimizer_alice = optim.SGD(model_alice_device.parameters(), lr=cfg.ARGS.LR)\n",
    "\n",
    "models = [model_bob_device, model_alice_device]\n",
    "optimizers = [optimizer_bob, optimizer_alice]"
   ]
  },
  {
   "cell_type": "markdown",
   "metadata": {},
   "source": [
    "### Train models on devices and test"
   ]
  },
  {
   "cell_type": "code",
   "execution_count": null,
   "metadata": {},
   "outputs": [],
   "source": [
    "epoch_loss = []\n",
    "precision = []\n",
    "accuracy = []\n",
    "recall = []\n",
    "for epoch in range(cfg.ARGS.EPOCHS):\n",
    "    start_time = time.time()\n",
    "    print(\"Epoch Number = {}\".format(epoch+1))\n",
    "    federated_model = train_on_devices(remote_dataset, devices, models, optimizers)\n",
    "    model = federated_model\n",
    "    test_loss, avg_precision, avg_accuracy, avg_recall = test_model(model, data)\n",
    "    epoch_loss.append(test_loss)\n",
    "    precision.append(avg_precision)\n",
    "    accuracy.append(avg_accuracy)\n",
    "    recall.append(avg_recall)\n",
    "    total_time = time.time() - start_time\n",
    "    print('Communication time over the network {} s\\n'.format(round(total_time, 2)))"
   ]
  },
  {
   "cell_type": "code",
   "execution_count": null,
   "metadata": {},
   "outputs": [],
   "source": []
  }
 ],
 "metadata": {
  "kernelspec": {
   "display_name": "Python 3",
   "language": "python",
   "name": "python3"
  },
  "language_info": {
   "codemirror_mode": {
    "name": "ipython",
    "version": 3
   },
   "file_extension": ".py",
   "mimetype": "text/x-python",
   "name": "python",
   "nbconvert_exporter": "python",
   "pygments_lexer": "ipython3",
   "version": "3.6.10"
  }
 },
 "nbformat": 4,
 "nbformat_minor": 4
}
